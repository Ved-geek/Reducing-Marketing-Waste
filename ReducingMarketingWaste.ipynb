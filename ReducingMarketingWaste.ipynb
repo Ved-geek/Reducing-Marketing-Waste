{
 "cells": [
  {
   "cell_type": "markdown",
   "metadata": {},
   "source": [
    "# Importing python libraries"
   ]
  },
  {
   "cell_type": "code",
   "execution_count": 1,
   "metadata": {},
   "outputs": [],
   "source": [
    "import numpy as np\n",
    "import pandas as pd \n",
    "import seaborn as sns\n",
    "import matplotlib.pyplot as plt"
   ]
  },
  {
   "cell_type": "markdown",
   "metadata": {},
   "source": [
    "# Importing data"
   ]
  },
  {
   "cell_type": "code",
   "execution_count": 2,
   "metadata": {},
   "outputs": [],
   "source": [
    "missing_values = [\"n/a\", \"na\", \"--\",'?']\n",
    "data = pd.read_csv(\"train.csv\", na_values = missing_values)\n"
   ]
  },
  {
   "cell_type": "code",
   "execution_count": 3,
   "metadata": {},
   "outputs": [
    {
     "data": {
      "text/html": [
       "<div>\n",
       "<style scoped>\n",
       "    .dataframe tbody tr th:only-of-type {\n",
       "        vertical-align: middle;\n",
       "    }\n",
       "\n",
       "    .dataframe tbody tr th {\n",
       "        vertical-align: top;\n",
       "    }\n",
       "\n",
       "    .dataframe thead th {\n",
       "        text-align: right;\n",
       "    }\n",
       "</style>\n",
       "<table border=\"1\" class=\"dataframe\">\n",
       "  <thead>\n",
       "    <tr style=\"text-align: right;\">\n",
       "      <th></th>\n",
       "      <th>Deal_title</th>\n",
       "      <th>Lead_name</th>\n",
       "      <th>Industry</th>\n",
       "      <th>Deal_value</th>\n",
       "      <th>Weighted_amount</th>\n",
       "      <th>Date_of_creation</th>\n",
       "      <th>Pitch</th>\n",
       "      <th>Contact_no</th>\n",
       "      <th>Lead_revenue</th>\n",
       "      <th>Fund_category</th>\n",
       "      <th>...</th>\n",
       "      <th>Designation</th>\n",
       "      <th>Lead_POC_email</th>\n",
       "      <th>Hiring_candidate_role</th>\n",
       "      <th>Lead_source</th>\n",
       "      <th>Level_of_meeting</th>\n",
       "      <th>Last_lead_update</th>\n",
       "      <th>Internal_POC</th>\n",
       "      <th>Resource</th>\n",
       "      <th>Internal_rating</th>\n",
       "      <th>Success_probability</th>\n",
       "    </tr>\n",
       "  </thead>\n",
       "  <tbody>\n",
       "    <tr>\n",
       "      <th>0</th>\n",
       "      <td>TitleM5DZY</td>\n",
       "      <td>Davis, Perkins and Bishop Inc</td>\n",
       "      <td>Restaurants</td>\n",
       "      <td>320506$</td>\n",
       "      <td>2067263.7$</td>\n",
       "      <td>2020-03-29</td>\n",
       "      <td>Product_2</td>\n",
       "      <td>607.447.7883</td>\n",
       "      <td>50 - 100 Million</td>\n",
       "      <td>Category 2</td>\n",
       "      <td>...</td>\n",
       "      <td>Executive Vice President</td>\n",
       "      <td>charlenewerner@davis.com</td>\n",
       "      <td>Community pharmacist</td>\n",
       "      <td>Website</td>\n",
       "      <td>Level 3</td>\n",
       "      <td>No track</td>\n",
       "      <td>Davis,Sharrice A</td>\n",
       "      <td>NaN</td>\n",
       "      <td>3</td>\n",
       "      <td>73.6</td>\n",
       "    </tr>\n",
       "    <tr>\n",
       "      <th>1</th>\n",
       "      <td>TitleKIW18</td>\n",
       "      <td>Bender PLC LLC</td>\n",
       "      <td>Construction Services</td>\n",
       "      <td>39488$</td>\n",
       "      <td>240876.8$</td>\n",
       "      <td>2019-07-10</td>\n",
       "      <td>Product_2</td>\n",
       "      <td>892-938-9493</td>\n",
       "      <td>500 Million - 1 Billion</td>\n",
       "      <td>Category 4</td>\n",
       "      <td>...</td>\n",
       "      <td>Chairman/CEO/President</td>\n",
       "      <td>terrylogan@bender.com</td>\n",
       "      <td>Recruitment consultant</td>\n",
       "      <td>Others</td>\n",
       "      <td>Level 1</td>\n",
       "      <td>Did not hear back after Level 1</td>\n",
       "      <td>Brown,Maxine A</td>\n",
       "      <td>No</td>\n",
       "      <td>5</td>\n",
       "      <td>58.9</td>\n",
       "    </tr>\n",
       "    <tr>\n",
       "      <th>2</th>\n",
       "      <td>TitleFXSDN</td>\n",
       "      <td>Carter-Henry and Sons</td>\n",
       "      <td>Hospitals/Clinics</td>\n",
       "      <td>359392$</td>\n",
       "      <td>2407926.4$</td>\n",
       "      <td>2019-07-27</td>\n",
       "      <td>Product_1</td>\n",
       "      <td>538.748.2271</td>\n",
       "      <td>500 Million - 1 Billion</td>\n",
       "      <td>Category 4</td>\n",
       "      <td>...</td>\n",
       "      <td>SVP/General Counsel</td>\n",
       "      <td>arielhamilton@carterhenry.com</td>\n",
       "      <td>Health service manager</td>\n",
       "      <td>Marketing Event</td>\n",
       "      <td>Level 1</td>\n",
       "      <td>NaN</td>\n",
       "      <td>Georgakopoulos,Vasilios T</td>\n",
       "      <td>No</td>\n",
       "      <td>4</td>\n",
       "      <td>68.8</td>\n",
       "    </tr>\n",
       "    <tr>\n",
       "      <th>3</th>\n",
       "      <td>TitlePSK4Y</td>\n",
       "      <td>Garcia Ltd Ltd</td>\n",
       "      <td>Real Estate</td>\n",
       "      <td>76774$</td>\n",
       "      <td>468321.4$</td>\n",
       "      <td>2021-01-30</td>\n",
       "      <td>Product_2</td>\n",
       "      <td>(692)052-1389x75188</td>\n",
       "      <td>500 Million - 1 Billion</td>\n",
       "      <td>Category 3</td>\n",
       "      <td>...</td>\n",
       "      <td>CEO/Co-Founder/Chairman</td>\n",
       "      <td>erinwilson@garcia.com</td>\n",
       "      <td>Therapist, speech and language</td>\n",
       "      <td>Contact Email</td>\n",
       "      <td>Level 2</td>\n",
       "      <td>Did not hear back after Level 1</td>\n",
       "      <td>Brown,Maxine A</td>\n",
       "      <td>We have all the requirements</td>\n",
       "      <td>1</td>\n",
       "      <td>64.5</td>\n",
       "    </tr>\n",
       "    <tr>\n",
       "      <th>4</th>\n",
       "      <td>Title904GV</td>\n",
       "      <td>Lee and Sons PLC</td>\n",
       "      <td>Financial Services</td>\n",
       "      <td>483896$</td>\n",
       "      <td>NaN</td>\n",
       "      <td>2019-05-22</td>\n",
       "      <td>Product_2</td>\n",
       "      <td>001-878-814-6134x015</td>\n",
       "      <td>50 - 100 Million</td>\n",
       "      <td>Category 3</td>\n",
       "      <td>...</td>\n",
       "      <td>Executive Vice President</td>\n",
       "      <td>mr.christopher@lee.com</td>\n",
       "      <td>Media planner</td>\n",
       "      <td>Website</td>\n",
       "      <td>Level 2</td>\n",
       "      <td>Up-to-date</td>\n",
       "      <td>Thomas,Lori E</td>\n",
       "      <td>No</td>\n",
       "      <td>4</td>\n",
       "      <td>62.4</td>\n",
       "    </tr>\n",
       "  </tbody>\n",
       "</table>\n",
       "<p>5 rows × 23 columns</p>\n",
       "</div>"
      ],
      "text/plain": [
       "   Deal_title                      Lead_name               Industry  \\\n",
       "0  TitleM5DZY  Davis, Perkins and Bishop Inc            Restaurants   \n",
       "1  TitleKIW18                 Bender PLC LLC  Construction Services   \n",
       "2  TitleFXSDN          Carter-Henry and Sons      Hospitals/Clinics   \n",
       "3  TitlePSK4Y                 Garcia Ltd Ltd            Real Estate   \n",
       "4  Title904GV               Lee and Sons PLC     Financial Services   \n",
       "\n",
       "  Deal_value Weighted_amount Date_of_creation      Pitch  \\\n",
       "0    320506$      2067263.7$       2020-03-29  Product_2   \n",
       "1     39488$       240876.8$       2019-07-10  Product_2   \n",
       "2    359392$      2407926.4$       2019-07-27  Product_1   \n",
       "3     76774$       468321.4$       2021-01-30  Product_2   \n",
       "4    483896$             NaN       2019-05-22  Product_2   \n",
       "\n",
       "             Contact_no             Lead_revenue Fund_category  ...  \\\n",
       "0          607.447.7883         50 - 100 Million    Category 2  ...   \n",
       "1          892-938-9493  500 Million - 1 Billion    Category 4  ...   \n",
       "2          538.748.2271  500 Million - 1 Billion    Category 4  ...   \n",
       "3   (692)052-1389x75188  500 Million - 1 Billion    Category 3  ...   \n",
       "4  001-878-814-6134x015         50 - 100 Million    Category 3  ...   \n",
       "\n",
       "                Designation                 Lead_POC_email  \\\n",
       "0  Executive Vice President       charlenewerner@davis.com   \n",
       "1    Chairman/CEO/President          terrylogan@bender.com   \n",
       "2      SVP/General Counsel   arielhamilton@carterhenry.com   \n",
       "3   CEO/Co-Founder/Chairman          erinwilson@garcia.com   \n",
       "4  Executive Vice President         mr.christopher@lee.com   \n",
       "\n",
       "            Hiring_candidate_role      Lead_source Level_of_meeting  \\\n",
       "0            Community pharmacist          Website          Level 3   \n",
       "1          Recruitment consultant           Others          Level 1   \n",
       "2          Health service manager  Marketing Event          Level 1   \n",
       "3  Therapist, speech and language    Contact Email          Level 2   \n",
       "4                   Media planner          Website          Level 2   \n",
       "\n",
       "                  Last_lead_update               Internal_POC  \\\n",
       "0                         No track           Davis,Sharrice A   \n",
       "1  Did not hear back after Level 1             Brown,Maxine A   \n",
       "2                              NaN  Georgakopoulos,Vasilios T   \n",
       "3  Did not hear back after Level 1             Brown,Maxine A   \n",
       "4                       Up-to-date              Thomas,Lori E   \n",
       "\n",
       "                       Resource Internal_rating Success_probability  \n",
       "0                           NaN               3                73.6  \n",
       "1                            No               5                58.9  \n",
       "2                            No               4                68.8  \n",
       "3  We have all the requirements               1                64.5  \n",
       "4                            No               4                62.4  \n",
       "\n",
       "[5 rows x 23 columns]"
      ]
     },
     "execution_count": 3,
     "metadata": {},
     "output_type": "execute_result"
    }
   ],
   "source": [
    "data.head()"
   ]
  },
  {
   "cell_type": "code",
   "execution_count": 4,
   "metadata": {},
   "outputs": [
    {
     "data": {
      "text/plain": [
       "(7007, 23)"
      ]
     },
     "execution_count": 4,
     "metadata": {},
     "output_type": "execute_result"
    }
   ],
   "source": [
    "data.shape"
   ]
  },
  {
   "cell_type": "markdown",
   "metadata": {},
   "source": [
    "# Handling Missing values"
   ]
  },
  {
   "cell_type": "code",
   "execution_count": 5,
   "metadata": {},
   "outputs": [
    {
     "data": {
      "text/plain": [
       "Deal_title                  0\n",
       "Lead_name                   0\n",
       "Industry                    1\n",
       "Deal_value                 51\n",
       "Weighted_amount           525\n",
       "Date_of_creation            0\n",
       "Pitch                       0\n",
       "Contact_no                  0\n",
       "Lead_revenue                0\n",
       "Fund_category               0\n",
       "Geography                 972\n",
       "Location                   11\n",
       "POC_name                    8\n",
       "Designation                 0\n",
       "Lead_POC_email              0\n",
       "Hiring_candidate_role       0\n",
       "Lead_source                 0\n",
       "Level_of_meeting            0\n",
       "Last_lead_update         1218\n",
       "Internal_POC                0\n",
       "Resource                  149\n",
       "Internal_rating             0\n",
       "Success_probability         0\n",
       "dtype: int64"
      ]
     },
     "execution_count": 5,
     "metadata": {},
     "output_type": "execute_result"
    }
   ],
   "source": [
    "data.isnull().sum()"
   ]
  },
  {
   "cell_type": "code",
   "execution_count": 6,
   "metadata": {},
   "outputs": [
    {
     "data": {
      "text/html": [
       "<div>\n",
       "<style scoped>\n",
       "    .dataframe tbody tr th:only-of-type {\n",
       "        vertical-align: middle;\n",
       "    }\n",
       "\n",
       "    .dataframe tbody tr th {\n",
       "        vertical-align: top;\n",
       "    }\n",
       "\n",
       "    .dataframe thead th {\n",
       "        text-align: right;\n",
       "    }\n",
       "</style>\n",
       "<table border=\"1\" class=\"dataframe\">\n",
       "  <thead>\n",
       "    <tr style=\"text-align: right;\">\n",
       "      <th></th>\n",
       "      <th>variable</th>\n",
       "      <th>na_percentage</th>\n",
       "    </tr>\n",
       "  </thead>\n",
       "  <tbody>\n",
       "    <tr>\n",
       "      <th>6</th>\n",
       "      <td>Last_lead_update</td>\n",
       "      <td>0.173826</td>\n",
       "    </tr>\n",
       "    <tr>\n",
       "      <th>3</th>\n",
       "      <td>Geography</td>\n",
       "      <td>0.138718</td>\n",
       "    </tr>\n",
       "    <tr>\n",
       "      <th>2</th>\n",
       "      <td>Weighted_amount</td>\n",
       "      <td>0.074925</td>\n",
       "    </tr>\n",
       "    <tr>\n",
       "      <th>7</th>\n",
       "      <td>Resource</td>\n",
       "      <td>0.021264</td>\n",
       "    </tr>\n",
       "    <tr>\n",
       "      <th>1</th>\n",
       "      <td>Deal_value</td>\n",
       "      <td>0.007278</td>\n",
       "    </tr>\n",
       "    <tr>\n",
       "      <th>4</th>\n",
       "      <td>Location</td>\n",
       "      <td>0.001570</td>\n",
       "    </tr>\n",
       "    <tr>\n",
       "      <th>5</th>\n",
       "      <td>POC_name</td>\n",
       "      <td>0.001142</td>\n",
       "    </tr>\n",
       "    <tr>\n",
       "      <th>0</th>\n",
       "      <td>Industry</td>\n",
       "      <td>0.000143</td>\n",
       "    </tr>\n",
       "  </tbody>\n",
       "</table>\n",
       "</div>"
      ],
      "text/plain": [
       "           variable  na_percentage\n",
       "6  Last_lead_update       0.173826\n",
       "3         Geography       0.138718\n",
       "2   Weighted_amount       0.074925\n",
       "7          Resource       0.021264\n",
       "1        Deal_value       0.007278\n",
       "4          Location       0.001570\n",
       "5          POC_name       0.001142\n",
       "0          Industry       0.000143"
      ]
     },
     "execution_count": 6,
     "metadata": {},
     "output_type": "execute_result"
    }
   ],
   "source": [
    "vars_with_na = [var for var in data.columns if data[var].isnull().mean() > 0]\n",
    "\n",
    "# calculate the percentage of missing (as we did in section 3)\n",
    "# using the isnull() and mean() methods from pandas\n",
    "data_na = data[vars_with_na].isnull().mean()\n",
    "\n",
    "# transform the array into a dataframe\n",
    "data_na = pd.DataFrame(data_na.reset_index())\n",
    "\n",
    "# add column names to the dataframe\n",
    "data_na.columns = ['variable', 'na_percentage']\n",
    "\n",
    "# order the dataframe according to percentage of na per variable\n",
    "data_na.sort_values(by='na_percentage', ascending=False, inplace=True)\n",
    "\n",
    "# show\n",
    "data_na"
   ]
  },
  {
   "cell_type": "markdown",
   "metadata": {},
   "source": [
    "There are 7 columns which has missing values. The avobe figure shows the percentage of missing of missing value."
   ]
  },
  {
   "cell_type": "code",
   "execution_count": null,
   "metadata": {},
   "outputs": [],
   "source": []
  },
  {
   "cell_type": "markdown",
   "metadata": {},
   "source": [
    "As we can see that deal value and weighted amount have '$' sign in their columns, so we have to deal with such, So i have created a function that replace the sign with space."
   ]
  },
  {
   "cell_type": "code",
   "execution_count": 7,
   "metadata": {},
   "outputs": [],
   "source": [
    "def clean_currency(x):\n",
    "    \"\"\" If the value is a string, then remove currency symbol and delimiters\n",
    "    otherwise, the value is numeric and can be converted\n",
    "    \"\"\"\n",
    "    if isinstance(x, str):\n",
    "        return(x.replace('$', '').replace(',', ''))\n",
    "    return(x)"
   ]
  },
  {
   "cell_type": "code",
   "execution_count": 8,
   "metadata": {},
   "outputs": [],
   "source": [
    "data['Deal_value'] = data['Deal_value'].apply(clean_currency).astype('float')\n",
    "data['Weighted_amount'] = data['Weighted_amount'].apply(clean_currency).astype('float')"
   ]
  },
  {
   "cell_type": "code",
   "execution_count": 9,
   "metadata": {},
   "outputs": [],
   "source": [
    "data['Deal_value'].fillna(data['Deal_value'].mean(), inplace=True)\n",
    "data['Weighted_amount'].fillna(data['Weighted_amount'].mean(), inplace=True)"
   ]
  },
  {
   "cell_type": "code",
   "execution_count": 10,
   "metadata": {},
   "outputs": [],
   "source": [
    "data['Geography'].fillna(data['Geography']=='Missing', inplace = True)"
   ]
  },
  {
   "cell_type": "code",
   "execution_count": 11,
   "metadata": {},
   "outputs": [],
   "source": [
    "data['Location'].fillna(data['Location'].mode()[0], inplace = True)"
   ]
  },
  {
   "cell_type": "code",
   "execution_count": 12,
   "metadata": {},
   "outputs": [],
   "source": [
    "data['Industry'].fillna(data['Industry'].mode()[0], inplace = True)"
   ]
  },
  {
   "cell_type": "code",
   "execution_count": 13,
   "metadata": {},
   "outputs": [],
   "source": [
    "data['Resource'].replace('We have all the requirements','Yes',inplace=True)\n",
    "data['Resource'].replace('Deliverable','Yes',inplace=True)\n",
    "data['Resource'].replace('Cannot deliver','No',inplace=True)\n",
    "data['Resource'].replace('Not enough','No',inplace=True)"
   ]
  },
  {
   "cell_type": "code",
   "execution_count": 14,
   "metadata": {},
   "outputs": [],
   "source": [
    "data['Resource'].fillna(data['Resource'].mode()[0], inplace = True)"
   ]
  },
  {
   "cell_type": "code",
   "execution_count": 15,
   "metadata": {},
   "outputs": [],
   "source": [
    "data['Last_lead_update'].fillna(data['Last_lead_update']=='Missing', inplace = True)"
   ]
  },
  {
   "cell_type": "code",
   "execution_count": 17,
   "metadata": {},
   "outputs": [
    {
     "data": {
      "text/plain": [
       "Deal_title               0\n",
       "Lead_name                0\n",
       "Industry                 0\n",
       "Deal_value               0\n",
       "Weighted_amount          0\n",
       "Date_of_creation         0\n",
       "Pitch                    0\n",
       "Contact_no               0\n",
       "Lead_revenue             0\n",
       "Fund_category            0\n",
       "Geography                0\n",
       "Location                 0\n",
       "POC_name                 8\n",
       "Designation              0\n",
       "Lead_POC_email           0\n",
       "Hiring_candidate_role    0\n",
       "Lead_source              0\n",
       "Level_of_meeting         0\n",
       "Last_lead_update         0\n",
       "Internal_POC             0\n",
       "Resource                 0\n",
       "Internal_rating          0\n",
       "Success_probability      0\n",
       "dtype: int64"
      ]
     },
     "execution_count": 17,
     "metadata": {},
     "output_type": "execute_result"
    }
   ],
   "source": [
    "data.isnull().sum()"
   ]
  },
  {
   "cell_type": "markdown",
   "metadata": {},
   "source": [
    "Null values has been handled with mean and mode factor."
   ]
  },
  {
   "cell_type": "code",
   "execution_count": null,
   "metadata": {},
   "outputs": [],
   "source": []
  },
  {
   "cell_type": "markdown",
   "metadata": {},
   "source": [
    "#Dropping columns which is of no use."
   ]
  },
  {
   "cell_type": "code",
   "execution_count": 18,
   "metadata": {},
   "outputs": [],
   "source": [
    "columns=['Deal_title','Lead_name','Contact_no','Lead_POC_email','Internal_POC','Location','Hiring_candidate_role','POC_name','Industry']\n",
    "data.drop(columns, inplace=True,axis=1)"
   ]
  },
  {
   "cell_type": "code",
   "execution_count": 19,
   "metadata": {},
   "outputs": [
    {
     "data": {
      "text/html": [
       "<div>\n",
       "<style scoped>\n",
       "    .dataframe tbody tr th:only-of-type {\n",
       "        vertical-align: middle;\n",
       "    }\n",
       "\n",
       "    .dataframe tbody tr th {\n",
       "        vertical-align: top;\n",
       "    }\n",
       "\n",
       "    .dataframe thead th {\n",
       "        text-align: right;\n",
       "    }\n",
       "</style>\n",
       "<table border=\"1\" class=\"dataframe\">\n",
       "  <thead>\n",
       "    <tr style=\"text-align: right;\">\n",
       "      <th></th>\n",
       "      <th>Deal_value</th>\n",
       "      <th>Weighted_amount</th>\n",
       "      <th>Date_of_creation</th>\n",
       "      <th>Pitch</th>\n",
       "      <th>Lead_revenue</th>\n",
       "      <th>Fund_category</th>\n",
       "      <th>Geography</th>\n",
       "      <th>Designation</th>\n",
       "      <th>Lead_source</th>\n",
       "      <th>Level_of_meeting</th>\n",
       "      <th>Last_lead_update</th>\n",
       "      <th>Resource</th>\n",
       "      <th>Internal_rating</th>\n",
       "      <th>Success_probability</th>\n",
       "    </tr>\n",
       "  </thead>\n",
       "  <tbody>\n",
       "    <tr>\n",
       "      <th>0</th>\n",
       "      <td>320506.0</td>\n",
       "      <td>2.067264e+06</td>\n",
       "      <td>2020-03-29</td>\n",
       "      <td>Product_2</td>\n",
       "      <td>50 - 100 Million</td>\n",
       "      <td>Category 2</td>\n",
       "      <td>USA</td>\n",
       "      <td>Executive Vice President</td>\n",
       "      <td>Website</td>\n",
       "      <td>Level 3</td>\n",
       "      <td>No track</td>\n",
       "      <td>No</td>\n",
       "      <td>3</td>\n",
       "      <td>73.6</td>\n",
       "    </tr>\n",
       "    <tr>\n",
       "      <th>1</th>\n",
       "      <td>39488.0</td>\n",
       "      <td>2.408768e+05</td>\n",
       "      <td>2019-07-10</td>\n",
       "      <td>Product_2</td>\n",
       "      <td>500 Million - 1 Billion</td>\n",
       "      <td>Category 4</td>\n",
       "      <td>India</td>\n",
       "      <td>Chairman/CEO/President</td>\n",
       "      <td>Others</td>\n",
       "      <td>Level 1</td>\n",
       "      <td>Did not hear back after Level 1</td>\n",
       "      <td>No</td>\n",
       "      <td>5</td>\n",
       "      <td>58.9</td>\n",
       "    </tr>\n",
       "    <tr>\n",
       "      <th>2</th>\n",
       "      <td>359392.0</td>\n",
       "      <td>2.407926e+06</td>\n",
       "      <td>2019-07-27</td>\n",
       "      <td>Product_1</td>\n",
       "      <td>500 Million - 1 Billion</td>\n",
       "      <td>Category 4</td>\n",
       "      <td>USA</td>\n",
       "      <td>SVP/General Counsel</td>\n",
       "      <td>Marketing Event</td>\n",
       "      <td>Level 1</td>\n",
       "      <td>False</td>\n",
       "      <td>No</td>\n",
       "      <td>4</td>\n",
       "      <td>68.8</td>\n",
       "    </tr>\n",
       "    <tr>\n",
       "      <th>3</th>\n",
       "      <td>76774.0</td>\n",
       "      <td>4.683214e+05</td>\n",
       "      <td>2021-01-30</td>\n",
       "      <td>Product_2</td>\n",
       "      <td>500 Million - 1 Billion</td>\n",
       "      <td>Category 3</td>\n",
       "      <td>USA</td>\n",
       "      <td>CEO/Co-Founder/Chairman</td>\n",
       "      <td>Contact Email</td>\n",
       "      <td>Level 2</td>\n",
       "      <td>Did not hear back after Level 1</td>\n",
       "      <td>Yes</td>\n",
       "      <td>1</td>\n",
       "      <td>64.5</td>\n",
       "    </tr>\n",
       "    <tr>\n",
       "      <th>4</th>\n",
       "      <td>483896.0</td>\n",
       "      <td>1.569884e+06</td>\n",
       "      <td>2019-05-22</td>\n",
       "      <td>Product_2</td>\n",
       "      <td>50 - 100 Million</td>\n",
       "      <td>Category 3</td>\n",
       "      <td>India</td>\n",
       "      <td>Executive Vice President</td>\n",
       "      <td>Website</td>\n",
       "      <td>Level 2</td>\n",
       "      <td>Up-to-date</td>\n",
       "      <td>No</td>\n",
       "      <td>4</td>\n",
       "      <td>62.4</td>\n",
       "    </tr>\n",
       "  </tbody>\n",
       "</table>\n",
       "</div>"
      ],
      "text/plain": [
       "   Deal_value  Weighted_amount Date_of_creation      Pitch  \\\n",
       "0    320506.0     2.067264e+06       2020-03-29  Product_2   \n",
       "1     39488.0     2.408768e+05       2019-07-10  Product_2   \n",
       "2    359392.0     2.407926e+06       2019-07-27  Product_1   \n",
       "3     76774.0     4.683214e+05       2021-01-30  Product_2   \n",
       "4    483896.0     1.569884e+06       2019-05-22  Product_2   \n",
       "\n",
       "              Lead_revenue Fund_category Geography               Designation  \\\n",
       "0         50 - 100 Million    Category 2       USA  Executive Vice President   \n",
       "1  500 Million - 1 Billion    Category 4     India    Chairman/CEO/President   \n",
       "2  500 Million - 1 Billion    Category 4       USA      SVP/General Counsel    \n",
       "3  500 Million - 1 Billion    Category 3       USA   CEO/Co-Founder/Chairman   \n",
       "4         50 - 100 Million    Category 3     India  Executive Vice President   \n",
       "\n",
       "       Lead_source Level_of_meeting                 Last_lead_update Resource  \\\n",
       "0          Website          Level 3                         No track       No   \n",
       "1           Others          Level 1  Did not hear back after Level 1       No   \n",
       "2  Marketing Event          Level 1                            False       No   \n",
       "3    Contact Email          Level 2  Did not hear back after Level 1      Yes   \n",
       "4          Website          Level 2                       Up-to-date       No   \n",
       "\n",
       "   Internal_rating  Success_probability  \n",
       "0                3                 73.6  \n",
       "1                5                 58.9  \n",
       "2                4                 68.8  \n",
       "3                1                 64.5  \n",
       "4                4                 62.4  "
      ]
     },
     "execution_count": 19,
     "metadata": {},
     "output_type": "execute_result"
    }
   ],
   "source": [
    "data.head()"
   ]
  },
  {
   "cell_type": "markdown",
   "metadata": {},
   "source": [
    "#Checking Descritization of Deal value and weighted amount"
   ]
  },
  {
   "cell_type": "markdown",
   "metadata": {},
   "source": [
    "#Deal Value"
   ]
  },
  {
   "cell_type": "code",
   "execution_count": 21,
   "metadata": {},
   "outputs": [
    {
     "data": {
      "text/plain": [
       "<matplotlib.axes._subplots.AxesSubplot at 0x1894959c3c8>"
      ]
     },
     "execution_count": 21,
     "metadata": {},
     "output_type": "execute_result"
    },
    {
     "data": {
      "image/png": "[encoded data removed]",
      "text/plain": [
       "<Figure size 432x288 with 1 Axes>"
      ]
     },
     "metadata": {
      "needs_background": "light"
     },
     "output_type": "display_data"
    }
   ],
   "source": [
    "data['Deal_value'].hist(bins=20)"
   ]
  },
  {
   "cell_type": "code",
   "execution_count": 22,
   "metadata": {},
   "outputs": [
    {
     "data": {
      "image/png": "[encoded data removed]",
      "text/plain": [
       "<Figure size 432x288 with 1 Axes>"
      ]
     },
     "metadata": {
      "needs_background": "light"
     },
     "output_type": "display_data"
    }
   ],
   "source": [
    "import statsmodels.api as sm\n",
    "import scipy.stats as stats\n",
    "fig = sm.qqplot(data['Deal_value'], stats.t, distargs=(4,),fit=True, line=\"45\")\n",
    "plt.show()"
   ]
  },
  {
   "cell_type": "code",
   "execution_count": 23,
   "metadata": {},
   "outputs": [
    {
     "data": {
      "image/png": "[encoded data removed]",
      "text/plain": [
       "<Figure size 432x288 with 1 Axes>"
      ]
     },
     "metadata": {
      "needs_background": "light"
     },
     "output_type": "display_data"
    }
   ],
   "source": [
    "import statsmodels.api as sm\n",
    "import scipy.stats as stats\n",
    "fig = sm.qqplot(data['Deal_value']**(1/1.5), stats.t, distargs=(4,),fit=True, line=\"45\")\n",
    "plt.show()"
   ]
  },
  {
   "cell_type": "code",
   "execution_count": null,
   "metadata": {},
   "outputs": [],
   "source": []
  },
  {
   "cell_type": "code",
   "execution_count": 26,
   "metadata": {},
   "outputs": [
    {
     "data": {
      "image/png": "[encoded data removed]",
      "text/plain": [
       "<Figure size 432x288 with 1 Axes>"
      ]
     },
     "metadata": {
      "needs_background": "light"
     },
     "output_type": "display_data"
    }
   ],
   "source": [
    "import statsmodels.api as sm\n",
    "import scipy.stats as stats\n",
    "fig = sm.qqplot(data['Deal_value'], stats.t, distargs=(4,),fit=True, line=\"45\")\n",
    "plt.show()"
   ]
  },
  {
   "cell_type": "code",
   "execution_count": 27,
   "metadata": {},
   "outputs": [],
   "source": [
    "data['Deal_value']=data['Deal_value']**(1/1.5)\n"
   ]
  },
  {
   "cell_type": "code",
   "execution_count": 28,
   "metadata": {},
   "outputs": [],
   "source": [
    "#Weighted_amount"
   ]
  },
  {
   "cell_type": "code",
   "execution_count": 29,
   "metadata": {},
   "outputs": [
    {
     "data": {
      "image/png": "[encoded data removed]",
      "text/plain": [
       "<Figure size 432x288 with 1 Axes>"
      ]
     },
     "metadata": {
      "needs_background": "light"
     },
     "output_type": "display_data"
    }
   ],
   "source": [
    "fig = sm.qqplot(data['Weighted_amount']**(1/2), stats.t, distargs=(4,),fit=True, line=\"45\")\n",
    "plt.show()"
   ]
  },
  {
   "cell_type": "code",
   "execution_count": 30,
   "metadata": {},
   "outputs": [],
   "source": [
    "data['Weighted_amount']=data['Weighted_amount']**(1/2)"
   ]
  },
  {
   "cell_type": "markdown",
   "metadata": {},
   "source": [
    "During these process I have used reciprocal descritization, as reciprocal was giving me better result than all."
   ]
  },
  {
   "cell_type": "markdown",
   "metadata": {},
   "source": [
    "#Data of Creation"
   ]
  },
  {
   "cell_type": "code",
   "execution_count": 32,
   "metadata": {},
   "outputs": [
    {
     "data": {
      "text/plain": [
       "pandas.core.series.Series"
      ]
     },
     "execution_count": 32,
     "metadata": {},
     "output_type": "execute_result"
    }
   ],
   "source": [
    "type(data['Date_of_creation'])"
   ]
  },
  {
   "cell_type": "code",
   "execution_count": 33,
   "metadata": {},
   "outputs": [],
   "source": [
    "data['Date_of_creation']=pd.to_datetime(data['Date_of_creation'],format='%Y-%m-%d')"
   ]
  },
  {
   "cell_type": "code",
   "execution_count": 34,
   "metadata": {},
   "outputs": [],
   "source": [
    "data['Year']=data['Date_of_creation'].dt.year\n",
    "data['Month']=data['Date_of_creation'].dt.month\n",
    "data['Weekday']=data['Date_of_creation'].dt.weekday"
   ]
  },
  {
   "cell_type": "markdown",
   "metadata": {},
   "source": [
    "Making month, year, weekday columns from date columns."
   ]
  },
  {
   "cell_type": "code",
   "execution_count": 35,
   "metadata": {},
   "outputs": [
    {
     "data": {
      "text/html": [
       "<div>\n",
       "<style scoped>\n",
       "    .dataframe tbody tr th:only-of-type {\n",
       "        vertical-align: middle;\n",
       "    }\n",
       "\n",
       "    .dataframe tbody tr th {\n",
       "        vertical-align: top;\n",
       "    }\n",
       "\n",
       "    .dataframe thead th {\n",
       "        text-align: right;\n",
       "    }\n",
       "</style>\n",
       "<table border=\"1\" class=\"dataframe\">\n",
       "  <thead>\n",
       "    <tr style=\"text-align: right;\">\n",
       "      <th></th>\n",
       "      <th>Deal_value</th>\n",
       "      <th>Weighted_amount</th>\n",
       "      <th>Date_of_creation</th>\n",
       "      <th>Pitch</th>\n",
       "      <th>Lead_revenue</th>\n",
       "      <th>Fund_category</th>\n",
       "      <th>Geography</th>\n",
       "      <th>Designation</th>\n",
       "      <th>Lead_source</th>\n",
       "      <th>Level_of_meeting</th>\n",
       "      <th>Last_lead_update</th>\n",
       "      <th>Resource</th>\n",
       "      <th>Internal_rating</th>\n",
       "      <th>Success_probability</th>\n",
       "      <th>Year</th>\n",
       "      <th>Month</th>\n",
       "      <th>Weekday</th>\n",
       "    </tr>\n",
       "  </thead>\n",
       "  <tbody>\n",
       "    <tr>\n",
       "      <th>0</th>\n",
       "      <td>279.922814</td>\n",
       "      <td>1437.798213</td>\n",
       "      <td>2020-03-29</td>\n",
       "      <td>Product_2</td>\n",
       "      <td>50 - 100 Million</td>\n",
       "      <td>Category 2</td>\n",
       "      <td>USA</td>\n",
       "      <td>Executive Vice President</td>\n",
       "      <td>Website</td>\n",
       "      <td>Level 3</td>\n",
       "      <td>No track</td>\n",
       "      <td>No</td>\n",
       "      <td>3</td>\n",
       "      <td>73.6</td>\n",
       "      <td>2020</td>\n",
       "      <td>3</td>\n",
       "      <td>6</td>\n",
       "    </tr>\n",
       "    <tr>\n",
       "      <th>1</th>\n",
       "      <td>110.375681</td>\n",
       "      <td>490.792013</td>\n",
       "      <td>2019-07-10</td>\n",
       "      <td>Product_2</td>\n",
       "      <td>500 Million - 1 Billion</td>\n",
       "      <td>Category 4</td>\n",
       "      <td>India</td>\n",
       "      <td>Chairman/CEO/President</td>\n",
       "      <td>Others</td>\n",
       "      <td>Level 1</td>\n",
       "      <td>Did not hear back after Level 1</td>\n",
       "      <td>No</td>\n",
       "      <td>5</td>\n",
       "      <td>58.9</td>\n",
       "      <td>2019</td>\n",
       "      <td>7</td>\n",
       "      <td>2</td>\n",
       "    </tr>\n",
       "    <tr>\n",
       "      <th>2</th>\n",
       "      <td>294.538122</td>\n",
       "      <td>1551.749464</td>\n",
       "      <td>2019-07-27</td>\n",
       "      <td>Product_1</td>\n",
       "      <td>500 Million - 1 Billion</td>\n",
       "      <td>Category 4</td>\n",
       "      <td>USA</td>\n",
       "      <td>SVP/General Counsel</td>\n",
       "      <td>Marketing Event</td>\n",
       "      <td>Level 1</td>\n",
       "      <td>False</td>\n",
       "      <td>No</td>\n",
       "      <td>4</td>\n",
       "      <td>68.8</td>\n",
       "      <td>2019</td>\n",
       "      <td>7</td>\n",
       "      <td>5</td>\n",
       "    </tr>\n",
       "    <tr>\n",
       "      <th>3</th>\n",
       "      <td>148.322247</td>\n",
       "      <td>684.340120</td>\n",
       "      <td>2021-01-30</td>\n",
       "      <td>Product_2</td>\n",
       "      <td>500 Million - 1 Billion</td>\n",
       "      <td>Category 3</td>\n",
       "      <td>USA</td>\n",
       "      <td>CEO/Co-Founder/Chairman</td>\n",
       "      <td>Contact Email</td>\n",
       "      <td>Level 2</td>\n",
       "      <td>Did not hear back after Level 1</td>\n",
       "      <td>Yes</td>\n",
       "      <td>1</td>\n",
       "      <td>64.5</td>\n",
       "      <td>2021</td>\n",
       "      <td>1</td>\n",
       "      <td>5</td>\n",
       "    </tr>\n",
       "    <tr>\n",
       "      <th>4</th>\n",
       "      <td>336.168068</td>\n",
       "      <td>1252.949986</td>\n",
       "      <td>2019-05-22</td>\n",
       "      <td>Product_2</td>\n",
       "      <td>50 - 100 Million</td>\n",
       "      <td>Category 3</td>\n",
       "      <td>India</td>\n",
       "      <td>Executive Vice President</td>\n",
       "      <td>Website</td>\n",
       "      <td>Level 2</td>\n",
       "      <td>Up-to-date</td>\n",
       "      <td>No</td>\n",
       "      <td>4</td>\n",
       "      <td>62.4</td>\n",
       "      <td>2019</td>\n",
       "      <td>5</td>\n",
       "      <td>2</td>\n",
       "    </tr>\n",
       "  </tbody>\n",
       "</table>\n",
       "</div>"
      ],
      "text/plain": [
       "   Deal_value  Weighted_amount Date_of_creation      Pitch  \\\n",
       "0  279.922814      1437.798213       2020-03-29  Product_2   \n",
       "1  110.375681       490.792013       2019-07-10  Product_2   \n",
       "2  294.538122      1551.749464       2019-07-27  Product_1   \n",
       "3  148.322247       684.340120       2021-01-30  Product_2   \n",
       "4  336.168068      1252.949986       2019-05-22  Product_2   \n",
       "\n",
       "              Lead_revenue Fund_category Geography               Designation  \\\n",
       "0         50 - 100 Million    Category 2       USA  Executive Vice President   \n",
       "1  500 Million - 1 Billion    Category 4     India    Chairman/CEO/President   \n",
       "2  500 Million - 1 Billion    Category 4       USA      SVP/General Counsel    \n",
       "3  500 Million - 1 Billion    Category 3       USA   CEO/Co-Founder/Chairman   \n",
       "4         50 - 100 Million    Category 3     India  Executive Vice President   \n",
       "\n",
       "       Lead_source Level_of_meeting                 Last_lead_update Resource  \\\n",
       "0          Website          Level 3                         No track       No   \n",
       "1           Others          Level 1  Did not hear back after Level 1       No   \n",
       "2  Marketing Event          Level 1                            False       No   \n",
       "3    Contact Email          Level 2  Did not hear back after Level 1      Yes   \n",
       "4          Website          Level 2                       Up-to-date       No   \n",
       "\n",
       "   Internal_rating  Success_probability  Year  Month  Weekday  \n",
       "0                3                 73.6  2020      3        6  \n",
       "1                5                 58.9  2019      7        2  \n",
       "2                4                 68.8  2019      7        5  \n",
       "3                1                 64.5  2021      1        5  \n",
       "4                4                 62.4  2019      5        2  "
      ]
     },
     "execution_count": 35,
     "metadata": {},
     "output_type": "execute_result"
    }
   ],
   "source": [
    "data.head()"
   ]
  },
  {
   "cell_type": "code",
   "execution_count": 36,
   "metadata": {},
   "outputs": [
    {
     "name": "stderr",
     "output_type": "stream",
     "text": [
      "C:\\Users\\lenovo\\anaconda3\\lib\\site-packages\\seaborn\\distributions.py:2557: FutureWarning: `distplot` is a deprecated function and will be removed in a future version. Please adapt your code to use either `displot` (a figure-level function with similar flexibility) or `histplot` (an axes-level function for histograms).\n",
      "  warnings.warn(msg, FutureWarning)\n"
     ]
    },
    {
     "data": {
      "text/plain": [
       "<matplotlib.axes._subplots.AxesSubplot at 0x1894abecd08>"
      ]
     },
     "execution_count": 36,
     "metadata": {},
     "output_type": "execute_result"
    },
    {
     "data": {
      "image/png": "[encoded data removed]",
      "text/plain": [
       "<Figure size 432x288 with 1 Axes>"
      ]
     },
     "metadata": {
      "needs_background": "light"
     },
     "output_type": "display_data"
    }
   ],
   "source": [
    "sns.distplot(data[data['Year']==2020].Month, bins=12, kde=False, norm_hist=True)"
   ]
  },
  {
   "cell_type": "code",
   "execution_count": 37,
   "metadata": {},
   "outputs": [
    {
     "name": "stderr",
     "output_type": "stream",
     "text": [
      "C:\\Users\\lenovo\\anaconda3\\lib\\site-packages\\seaborn\\distributions.py:2557: FutureWarning: `distplot` is a deprecated function and will be removed in a future version. Please adapt your code to use either `displot` (a figure-level function with similar flexibility) or `histplot` (an axes-level function for histograms).\n",
      "  warnings.warn(msg, FutureWarning)\n"
     ]
    },
    {
     "data": {
      "text/plain": [
       "<matplotlib.axes._subplots.AxesSubplot at 0x1894ac21f48>"
      ]
     },
     "execution_count": 37,
     "metadata": {},
     "output_type": "execute_result"
    },
    {
     "data": {
      "image/png": "[encoded data removed]",
      "text/plain": [
       "<Figure size 432x288 with 1 Axes>"
      ]
     },
     "metadata": {
      "needs_background": "light"
     },
     "output_type": "display_data"
    }
   ],
   "source": [
    "sns.distplot(data[data['Year']==2019].Month, bins=12, kde=False, norm_hist=True)"
   ]
  },
  {
   "cell_type": "code",
   "execution_count": 38,
   "metadata": {},
   "outputs": [
    {
     "name": "stderr",
     "output_type": "stream",
     "text": [
      "C:\\Users\\lenovo\\anaconda3\\lib\\site-packages\\seaborn\\distributions.py:2557: FutureWarning: `distplot` is a deprecated function and will be removed in a future version. Please adapt your code to use either `displot` (a figure-level function with similar flexibility) or `histplot` (an axes-level function for histograms).\n",
      "  warnings.warn(msg, FutureWarning)\n"
     ]
    },
    {
     "data": {
      "text/plain": [
       "<matplotlib.axes._subplots.AxesSubplot at 0x1894acdadc8>"
      ]
     },
     "execution_count": 38,
     "metadata": {},
     "output_type": "execute_result"
    },
    {
     "data": {
      "image/png": "[encoded data removed]",
      "text/plain": [
       "<Figure size 432x288 with 1 Axes>"
      ]
     },
     "metadata": {
      "needs_background": "light"
     },
     "output_type": "display_data"
    }
   ],
   "source": [
    "sns.distplot(data[data['Year']==2021].Month, bins=12, kde=False, norm_hist=True)"
   ]
  },
  {
   "cell_type": "code",
   "execution_count": null,
   "metadata": {},
   "outputs": [],
   "source": []
  },
  {
   "cell_type": "code",
   "execution_count": 39,
   "metadata": {},
   "outputs": [],
   "source": [
    "#Label Encoding"
   ]
  },
  {
   "cell_type": "code",
   "execution_count": 40,
   "metadata": {},
   "outputs": [
    {
     "data": {
      "text/plain": [
       "Index(['Pitch', 'Lead_revenue', 'Fund_category', 'Geography', 'Designation',\n",
       "       'Lead_source', 'Level_of_meeting', 'Last_lead_update', 'Resource'],\n",
       "      dtype='object')"
      ]
     },
     "execution_count": 40,
     "metadata": {},
     "output_type": "execute_result"
    }
   ],
   "source": [
    "objList = data.select_dtypes(include = \"object\").columns\n",
    "objList"
   ]
  },
  {
   "cell_type": "code",
   "execution_count": 41,
   "metadata": {},
   "outputs": [],
   "source": [
    "from sklearn.preprocessing import LabelEncoder\n",
    "le = LabelEncoder()\n",
    "\n",
    "for feat in objList:\n",
    "    data[feat] = le.fit_transform(data[feat].astype(str))"
   ]
  },
  {
   "cell_type": "markdown",
   "metadata": {},
   "source": [
    "We converted categorical columns with integer columns with label encoding."
   ]
  },
  {
   "cell_type": "code",
   "execution_count": 42,
   "metadata": {},
   "outputs": [
    {
     "data": {
      "text/html": [
       "<div>\n",
       "<style scoped>\n",
       "    .dataframe tbody tr th:only-of-type {\n",
       "        vertical-align: middle;\n",
       "    }\n",
       "\n",
       "    .dataframe tbody tr th {\n",
       "        vertical-align: top;\n",
       "    }\n",
       "\n",
       "    .dataframe thead th {\n",
       "        text-align: right;\n",
       "    }\n",
       "</style>\n",
       "<table border=\"1\" class=\"dataframe\">\n",
       "  <thead>\n",
       "    <tr style=\"text-align: right;\">\n",
       "      <th></th>\n",
       "      <th>Deal_value</th>\n",
       "      <th>Weighted_amount</th>\n",
       "      <th>Date_of_creation</th>\n",
       "      <th>Pitch</th>\n",
       "      <th>Lead_revenue</th>\n",
       "      <th>Fund_category</th>\n",
       "      <th>Geography</th>\n",
       "      <th>Designation</th>\n",
       "      <th>Lead_source</th>\n",
       "      <th>Level_of_meeting</th>\n",
       "      <th>Last_lead_update</th>\n",
       "      <th>Resource</th>\n",
       "      <th>Internal_rating</th>\n",
       "      <th>Success_probability</th>\n",
       "      <th>Year</th>\n",
       "      <th>Month</th>\n",
       "      <th>Weekday</th>\n",
       "    </tr>\n",
       "  </thead>\n",
       "  <tbody>\n",
       "    <tr>\n",
       "      <th>0</th>\n",
       "      <td>279.922814</td>\n",
       "      <td>1437.798213</td>\n",
       "      <td>2020-03-29</td>\n",
       "      <td>1</td>\n",
       "      <td>1</td>\n",
       "      <td>1</td>\n",
       "      <td>2</td>\n",
       "      <td>7</td>\n",
       "      <td>3</td>\n",
       "      <td>2</td>\n",
       "      <td>7</td>\n",
       "      <td>0</td>\n",
       "      <td>3</td>\n",
       "      <td>73.6</td>\n",
       "      <td>2020</td>\n",
       "      <td>3</td>\n",
       "      <td>6</td>\n",
       "    </tr>\n",
       "    <tr>\n",
       "      <th>1</th>\n",
       "      <td>110.375681</td>\n",
       "      <td>490.792013</td>\n",
       "      <td>2019-07-10</td>\n",
       "      <td>1</td>\n",
       "      <td>2</td>\n",
       "      <td>3</td>\n",
       "      <td>1</td>\n",
       "      <td>4</td>\n",
       "      <td>2</td>\n",
       "      <td>0</td>\n",
       "      <td>2</td>\n",
       "      <td>0</td>\n",
       "      <td>5</td>\n",
       "      <td>58.9</td>\n",
       "      <td>2019</td>\n",
       "      <td>7</td>\n",
       "      <td>2</td>\n",
       "    </tr>\n",
       "    <tr>\n",
       "      <th>2</th>\n",
       "      <td>294.538122</td>\n",
       "      <td>1551.749464</td>\n",
       "      <td>2019-07-27</td>\n",
       "      <td>0</td>\n",
       "      <td>2</td>\n",
       "      <td>3</td>\n",
       "      <td>2</td>\n",
       "      <td>8</td>\n",
       "      <td>1</td>\n",
       "      <td>0</td>\n",
       "      <td>3</td>\n",
       "      <td>0</td>\n",
       "      <td>4</td>\n",
       "      <td>68.8</td>\n",
       "      <td>2019</td>\n",
       "      <td>7</td>\n",
       "      <td>5</td>\n",
       "    </tr>\n",
       "    <tr>\n",
       "      <th>3</th>\n",
       "      <td>148.322247</td>\n",
       "      <td>684.340120</td>\n",
       "      <td>2021-01-30</td>\n",
       "      <td>1</td>\n",
       "      <td>2</td>\n",
       "      <td>2</td>\n",
       "      <td>2</td>\n",
       "      <td>2</td>\n",
       "      <td>0</td>\n",
       "      <td>1</td>\n",
       "      <td>2</td>\n",
       "      <td>1</td>\n",
       "      <td>1</td>\n",
       "      <td>64.5</td>\n",
       "      <td>2021</td>\n",
       "      <td>1</td>\n",
       "      <td>5</td>\n",
       "    </tr>\n",
       "    <tr>\n",
       "      <th>4</th>\n",
       "      <td>336.168068</td>\n",
       "      <td>1252.949986</td>\n",
       "      <td>2019-05-22</td>\n",
       "      <td>1</td>\n",
       "      <td>1</td>\n",
       "      <td>2</td>\n",
       "      <td>1</td>\n",
       "      <td>7</td>\n",
       "      <td>3</td>\n",
       "      <td>1</td>\n",
       "      <td>9</td>\n",
       "      <td>0</td>\n",
       "      <td>4</td>\n",
       "      <td>62.4</td>\n",
       "      <td>2019</td>\n",
       "      <td>5</td>\n",
       "      <td>2</td>\n",
       "    </tr>\n",
       "  </tbody>\n",
       "</table>\n",
       "</div>"
      ],
      "text/plain": [
       "   Deal_value  Weighted_amount Date_of_creation  Pitch  Lead_revenue  \\\n",
       "0  279.922814      1437.798213       2020-03-29      1             1   \n",
       "1  110.375681       490.792013       2019-07-10      1             2   \n",
       "2  294.538122      1551.749464       2019-07-27      0             2   \n",
       "3  148.322247       684.340120       2021-01-30      1             2   \n",
       "4  336.168068      1252.949986       2019-05-22      1             1   \n",
       "\n",
       "   Fund_category  Geography  Designation  Lead_source  Level_of_meeting  \\\n",
       "0              1          2            7            3                 2   \n",
       "1              3          1            4            2                 0   \n",
       "2              3          2            8            1                 0   \n",
       "3              2          2            2            0                 1   \n",
       "4              2          1            7            3                 1   \n",
       "\n",
       "   Last_lead_update  Resource  Internal_rating  Success_probability  Year  \\\n",
       "0                 7         0                3                 73.6  2020   \n",
       "1                 2         0                5                 58.9  2019   \n",
       "2                 3         0                4                 68.8  2019   \n",
       "3                 2         1                1                 64.5  2021   \n",
       "4                 9         0                4                 62.4  2019   \n",
       "\n",
       "   Month  Weekday  \n",
       "0      3        6  \n",
       "1      7        2  \n",
       "2      7        5  \n",
       "3      1        5  \n",
       "4      5        2  "
      ]
     },
     "execution_count": 42,
     "metadata": {},
     "output_type": "execute_result"
    }
   ],
   "source": [
    "data.head()"
   ]
  },
  {
   "cell_type": "code",
   "execution_count": 43,
   "metadata": {},
   "outputs": [],
   "source": [
    "columns=['Date_of_creation']\n",
    "data.drop(columns,axis=1,inplace=True)"
   ]
  },
  {
   "cell_type": "markdown",
   "metadata": {},
   "source": [
    "# Feature selection"
   ]
  },
  {
   "cell_type": "code",
   "execution_count": 44,
   "metadata": {},
   "outputs": [
    {
     "data": {
      "text/html": [
       "<div>\n",
       "<style scoped>\n",
       "    .dataframe tbody tr th:only-of-type {\n",
       "        vertical-align: middle;\n",
       "    }\n",
       "\n",
       "    .dataframe tbody tr th {\n",
       "        vertical-align: top;\n",
       "    }\n",
       "\n",
       "    .dataframe thead th {\n",
       "        text-align: right;\n",
       "    }\n",
       "</style>\n",
       "<table border=\"1\" class=\"dataframe\">\n",
       "  <thead>\n",
       "    <tr style=\"text-align: right;\">\n",
       "      <th></th>\n",
       "      <th>Deal_value</th>\n",
       "      <th>Weighted_amount</th>\n",
       "      <th>Pitch</th>\n",
       "      <th>Lead_revenue</th>\n",
       "      <th>Fund_category</th>\n",
       "      <th>Geography</th>\n",
       "      <th>Designation</th>\n",
       "      <th>Lead_source</th>\n",
       "      <th>Level_of_meeting</th>\n",
       "      <th>Last_lead_update</th>\n",
       "      <th>Resource</th>\n",
       "      <th>Internal_rating</th>\n",
       "      <th>Success_probability</th>\n",
       "      <th>Year</th>\n",
       "      <th>Month</th>\n",
       "      <th>Weekday</th>\n",
       "    </tr>\n",
       "  </thead>\n",
       "  <tbody>\n",
       "    <tr>\n",
       "      <th>Deal_value</th>\n",
       "      <td>1.000000</td>\n",
       "      <td>0.951019</td>\n",
       "      <td>-0.020131</td>\n",
       "      <td>0.003453</td>\n",
       "      <td>-0.006034</td>\n",
       "      <td>0.012162</td>\n",
       "      <td>0.011233</td>\n",
       "      <td>-0.026143</td>\n",
       "      <td>-0.007820</td>\n",
       "      <td>0.005354</td>\n",
       "      <td>0.019702</td>\n",
       "      <td>0.003510</td>\n",
       "      <td>0.023845</td>\n",
       "      <td>0.005956</td>\n",
       "      <td>-0.002438</td>\n",
       "      <td>0.008752</td>\n",
       "    </tr>\n",
       "    <tr>\n",
       "      <th>Weighted_amount</th>\n",
       "      <td>0.951019</td>\n",
       "      <td>1.000000</td>\n",
       "      <td>-0.019853</td>\n",
       "      <td>0.006278</td>\n",
       "      <td>-0.004000</td>\n",
       "      <td>0.024657</td>\n",
       "      <td>0.009379</td>\n",
       "      <td>-0.024387</td>\n",
       "      <td>0.045964</td>\n",
       "      <td>0.006772</td>\n",
       "      <td>0.017165</td>\n",
       "      <td>0.035083</td>\n",
       "      <td>0.037012</td>\n",
       "      <td>0.009411</td>\n",
       "      <td>0.003086</td>\n",
       "      <td>0.006603</td>\n",
       "    </tr>\n",
       "    <tr>\n",
       "      <th>Pitch</th>\n",
       "      <td>-0.020131</td>\n",
       "      <td>-0.019853</td>\n",
       "      <td>1.000000</td>\n",
       "      <td>0.007298</td>\n",
       "      <td>0.003410</td>\n",
       "      <td>-0.017737</td>\n",
       "      <td>0.003585</td>\n",
       "      <td>0.020752</td>\n",
       "      <td>-0.028846</td>\n",
       "      <td>0.005328</td>\n",
       "      <td>0.011845</td>\n",
       "      <td>0.023643</td>\n",
       "      <td>0.008719</td>\n",
       "      <td>0.005131</td>\n",
       "      <td>-0.010524</td>\n",
       "      <td>0.016624</td>\n",
       "    </tr>\n",
       "    <tr>\n",
       "      <th>Lead_revenue</th>\n",
       "      <td>0.003453</td>\n",
       "      <td>0.006278</td>\n",
       "      <td>0.007298</td>\n",
       "      <td>1.000000</td>\n",
       "      <td>0.005064</td>\n",
       "      <td>-0.003425</td>\n",
       "      <td>-0.012584</td>\n",
       "      <td>-0.015423</td>\n",
       "      <td>-0.012833</td>\n",
       "      <td>0.008480</td>\n",
       "      <td>-0.006845</td>\n",
       "      <td>-0.003950</td>\n",
       "      <td>0.015269</td>\n",
       "      <td>-0.004160</td>\n",
       "      <td>0.002419</td>\n",
       "      <td>-0.012670</td>\n",
       "    </tr>\n",
       "    <tr>\n",
       "      <th>Fund_category</th>\n",
       "      <td>-0.006034</td>\n",
       "      <td>-0.004000</td>\n",
       "      <td>0.003410</td>\n",
       "      <td>0.005064</td>\n",
       "      <td>1.000000</td>\n",
       "      <td>0.003320</td>\n",
       "      <td>-0.000432</td>\n",
       "      <td>-0.009635</td>\n",
       "      <td>-0.000172</td>\n",
       "      <td>-0.001840</td>\n",
       "      <td>0.006758</td>\n",
       "      <td>-0.004508</td>\n",
       "      <td>-0.050673</td>\n",
       "      <td>-0.016917</td>\n",
       "      <td>0.029287</td>\n",
       "      <td>0.002357</td>\n",
       "    </tr>\n",
       "    <tr>\n",
       "      <th>Geography</th>\n",
       "      <td>0.012162</td>\n",
       "      <td>0.024657</td>\n",
       "      <td>-0.017737</td>\n",
       "      <td>-0.003425</td>\n",
       "      <td>0.003320</td>\n",
       "      <td>1.000000</td>\n",
       "      <td>0.014921</td>\n",
       "      <td>-0.001651</td>\n",
       "      <td>0.005936</td>\n",
       "      <td>0.010444</td>\n",
       "      <td>-0.022470</td>\n",
       "      <td>0.012983</td>\n",
       "      <td>0.113625</td>\n",
       "      <td>0.012689</td>\n",
       "      <td>-0.028991</td>\n",
       "      <td>-0.019927</td>\n",
       "    </tr>\n",
       "    <tr>\n",
       "      <th>Designation</th>\n",
       "      <td>0.011233</td>\n",
       "      <td>0.009379</td>\n",
       "      <td>0.003585</td>\n",
       "      <td>-0.012584</td>\n",
       "      <td>-0.000432</td>\n",
       "      <td>0.014921</td>\n",
       "      <td>1.000000</td>\n",
       "      <td>0.007115</td>\n",
       "      <td>0.022790</td>\n",
       "      <td>-0.003891</td>\n",
       "      <td>0.002963</td>\n",
       "      <td>-0.000726</td>\n",
       "      <td>-0.004426</td>\n",
       "      <td>0.006757</td>\n",
       "      <td>0.009007</td>\n",
       "      <td>0.000438</td>\n",
       "    </tr>\n",
       "    <tr>\n",
       "      <th>Lead_source</th>\n",
       "      <td>-0.026143</td>\n",
       "      <td>-0.024387</td>\n",
       "      <td>0.020752</td>\n",
       "      <td>-0.015423</td>\n",
       "      <td>-0.009635</td>\n",
       "      <td>-0.001651</td>\n",
       "      <td>0.007115</td>\n",
       "      <td>1.000000</td>\n",
       "      <td>-0.009614</td>\n",
       "      <td>-0.005316</td>\n",
       "      <td>-0.017115</td>\n",
       "      <td>0.015634</td>\n",
       "      <td>0.052177</td>\n",
       "      <td>0.011994</td>\n",
       "      <td>-0.009863</td>\n",
       "      <td>0.017917</td>\n",
       "    </tr>\n",
       "    <tr>\n",
       "      <th>Level_of_meeting</th>\n",
       "      <td>-0.007820</td>\n",
       "      <td>0.045964</td>\n",
       "      <td>-0.028846</td>\n",
       "      <td>-0.012833</td>\n",
       "      <td>-0.000172</td>\n",
       "      <td>0.005936</td>\n",
       "      <td>0.022790</td>\n",
       "      <td>-0.009614</td>\n",
       "      <td>1.000000</td>\n",
       "      <td>0.001975</td>\n",
       "      <td>0.001717</td>\n",
       "      <td>0.018111</td>\n",
       "      <td>0.095374</td>\n",
       "      <td>-0.006586</td>\n",
       "      <td>-0.001552</td>\n",
       "      <td>0.002035</td>\n",
       "    </tr>\n",
       "    <tr>\n",
       "      <th>Last_lead_update</th>\n",
       "      <td>0.005354</td>\n",
       "      <td>0.006772</td>\n",
       "      <td>0.005328</td>\n",
       "      <td>0.008480</td>\n",
       "      <td>-0.001840</td>\n",
       "      <td>0.010444</td>\n",
       "      <td>-0.003891</td>\n",
       "      <td>-0.005316</td>\n",
       "      <td>0.001975</td>\n",
       "      <td>1.000000</td>\n",
       "      <td>-0.005995</td>\n",
       "      <td>0.008475</td>\n",
       "      <td>-0.000423</td>\n",
       "      <td>0.017929</td>\n",
       "      <td>0.007024</td>\n",
       "      <td>-0.010166</td>\n",
       "    </tr>\n",
       "    <tr>\n",
       "      <th>Resource</th>\n",
       "      <td>0.019702</td>\n",
       "      <td>0.017165</td>\n",
       "      <td>0.011845</td>\n",
       "      <td>-0.006845</td>\n",
       "      <td>0.006758</td>\n",
       "      <td>-0.022470</td>\n",
       "      <td>0.002963</td>\n",
       "      <td>-0.017115</td>\n",
       "      <td>0.001717</td>\n",
       "      <td>-0.005995</td>\n",
       "      <td>1.000000</td>\n",
       "      <td>-0.002357</td>\n",
       "      <td>0.007615</td>\n",
       "      <td>0.002521</td>\n",
       "      <td>-0.012224</td>\n",
       "      <td>-0.004079</td>\n",
       "    </tr>\n",
       "    <tr>\n",
       "      <th>Internal_rating</th>\n",
       "      <td>0.003510</td>\n",
       "      <td>0.035083</td>\n",
       "      <td>0.023643</td>\n",
       "      <td>-0.003950</td>\n",
       "      <td>-0.004508</td>\n",
       "      <td>0.012983</td>\n",
       "      <td>-0.000726</td>\n",
       "      <td>0.015634</td>\n",
       "      <td>0.018111</td>\n",
       "      <td>0.008475</td>\n",
       "      <td>-0.002357</td>\n",
       "      <td>1.000000</td>\n",
       "      <td>0.073845</td>\n",
       "      <td>-0.002117</td>\n",
       "      <td>0.000839</td>\n",
       "      <td>-0.009548</td>\n",
       "    </tr>\n",
       "    <tr>\n",
       "      <th>Success_probability</th>\n",
       "      <td>0.023845</td>\n",
       "      <td>0.037012</td>\n",
       "      <td>0.008719</td>\n",
       "      <td>0.015269</td>\n",
       "      <td>-0.050673</td>\n",
       "      <td>0.113625</td>\n",
       "      <td>-0.004426</td>\n",
       "      <td>0.052177</td>\n",
       "      <td>0.095374</td>\n",
       "      <td>-0.000423</td>\n",
       "      <td>0.007615</td>\n",
       "      <td>0.073845</td>\n",
       "      <td>1.000000</td>\n",
       "      <td>-0.005276</td>\n",
       "      <td>0.002141</td>\n",
       "      <td>0.008577</td>\n",
       "    </tr>\n",
       "    <tr>\n",
       "      <th>Year</th>\n",
       "      <td>0.005956</td>\n",
       "      <td>0.009411</td>\n",
       "      <td>0.005131</td>\n",
       "      <td>-0.004160</td>\n",
       "      <td>-0.016917</td>\n",
       "      <td>0.012689</td>\n",
       "      <td>0.006757</td>\n",
       "      <td>0.011994</td>\n",
       "      <td>-0.006586</td>\n",
       "      <td>0.017929</td>\n",
       "      <td>0.002521</td>\n",
       "      <td>-0.002117</td>\n",
       "      <td>-0.005276</td>\n",
       "      <td>1.000000</td>\n",
       "      <td>-0.199270</td>\n",
       "      <td>0.019933</td>\n",
       "    </tr>\n",
       "    <tr>\n",
       "      <th>Month</th>\n",
       "      <td>-0.002438</td>\n",
       "      <td>0.003086</td>\n",
       "      <td>-0.010524</td>\n",
       "      <td>0.002419</td>\n",
       "      <td>0.029287</td>\n",
       "      <td>-0.028991</td>\n",
       "      <td>0.009007</td>\n",
       "      <td>-0.009863</td>\n",
       "      <td>-0.001552</td>\n",
       "      <td>0.007024</td>\n",
       "      <td>-0.012224</td>\n",
       "      <td>0.000839</td>\n",
       "      <td>0.002141</td>\n",
       "      <td>-0.199270</td>\n",
       "      <td>1.000000</td>\n",
       "      <td>0.001549</td>\n",
       "    </tr>\n",
       "    <tr>\n",
       "      <th>Weekday</th>\n",
       "      <td>0.008752</td>\n",
       "      <td>0.006603</td>\n",
       "      <td>0.016624</td>\n",
       "      <td>-0.012670</td>\n",
       "      <td>0.002357</td>\n",
       "      <td>-0.019927</td>\n",
       "      <td>0.000438</td>\n",
       "      <td>0.017917</td>\n",
       "      <td>0.002035</td>\n",
       "      <td>-0.010166</td>\n",
       "      <td>-0.004079</td>\n",
       "      <td>-0.009548</td>\n",
       "      <td>0.008577</td>\n",
       "      <td>0.019933</td>\n",
       "      <td>0.001549</td>\n",
       "      <td>1.000000</td>\n",
       "    </tr>\n",
       "  </tbody>\n",
       "</table>\n",
       "</div>"
      ],
      "text/plain": [
       "                     Deal_value  Weighted_amount     Pitch  Lead_revenue  \\\n",
       "Deal_value             1.000000         0.951019 -0.020131      0.003453   \n",
       "Weighted_amount        0.951019         1.000000 -0.019853      0.006278   \n",
       "Pitch                 -0.020131        -0.019853  1.000000      0.007298   \n",
       "Lead_revenue           0.003453         0.006278  0.007298      1.000000   \n",
       "Fund_category         -0.006034        -0.004000  0.003410      0.005064   \n",
       "Geography              0.012162         0.024657 -0.017737     -0.003425   \n",
       "Designation            0.011233         0.009379  0.003585     -0.012584   \n",
       "Lead_source           -0.026143        -0.024387  0.020752     -0.015423   \n",
       "Level_of_meeting      -0.007820         0.045964 -0.028846     -0.012833   \n",
       "Last_lead_update       0.005354         0.006772  0.005328      0.008480   \n",
       "Resource               0.019702         0.017165  0.011845     -0.006845   \n",
       "Internal_rating        0.003510         0.035083  0.023643     -0.003950   \n",
       "Success_probability    0.023845         0.037012  0.008719      0.015269   \n",
       "Year                   0.005956         0.009411  0.005131     -0.004160   \n",
       "Month                 -0.002438         0.003086 -0.010524      0.002419   \n",
       "Weekday                0.008752         0.006603  0.016624     -0.012670   \n",
       "\n",
       "                     Fund_category  Geography  Designation  Lead_source  \\\n",
       "Deal_value               -0.006034   0.012162     0.011233    -0.026143   \n",
       "Weighted_amount          -0.004000   0.024657     0.009379    -0.024387   \n",
       "Pitch                     0.003410  -0.017737     0.003585     0.020752   \n",
       "Lead_revenue              0.005064  -0.003425    -0.012584    -0.015423   \n",
       "Fund_category             1.000000   0.003320    -0.000432    -0.009635   \n",
       "Geography                 0.003320   1.000000     0.014921    -0.001651   \n",
       "Designation              -0.000432   0.014921     1.000000     0.007115   \n",
       "Lead_source              -0.009635  -0.001651     0.007115     1.000000   \n",
       "Level_of_meeting         -0.000172   0.005936     0.022790    -0.009614   \n",
       "Last_lead_update         -0.001840   0.010444    -0.003891    -0.005316   \n",
       "Resource                  0.006758  -0.022470     0.002963    -0.017115   \n",
       "Internal_rating          -0.004508   0.012983    -0.000726     0.015634   \n",
       "Success_probability      -0.050673   0.113625    -0.004426     0.052177   \n",
       "Year                     -0.016917   0.012689     0.006757     0.011994   \n",
       "Month                     0.029287  -0.028991     0.009007    -0.009863   \n",
       "Weekday                   0.002357  -0.019927     0.000438     0.017917   \n",
       "\n",
       "                     Level_of_meeting  Last_lead_update  Resource  \\\n",
       "Deal_value                  -0.007820          0.005354  0.019702   \n",
       "Weighted_amount              0.045964          0.006772  0.017165   \n",
       "Pitch                       -0.028846          0.005328  0.011845   \n",
       "Lead_revenue                -0.012833          0.008480 -0.006845   \n",
       "Fund_category               -0.000172         -0.001840  0.006758   \n",
       "Geography                    0.005936          0.010444 -0.022470   \n",
       "Designation                  0.022790         -0.003891  0.002963   \n",
       "Lead_source                 -0.009614         -0.005316 -0.017115   \n",
       "Level_of_meeting             1.000000          0.001975  0.001717   \n",
       "Last_lead_update             0.001975          1.000000 -0.005995   \n",
       "Resource                     0.001717         -0.005995  1.000000   \n",
       "Internal_rating              0.018111          0.008475 -0.002357   \n",
       "Success_probability          0.095374         -0.000423  0.007615   \n",
       "Year                        -0.006586          0.017929  0.002521   \n",
       "Month                       -0.001552          0.007024 -0.012224   \n",
       "Weekday                      0.002035         -0.010166 -0.004079   \n",
       "\n",
       "                     Internal_rating  Success_probability      Year     Month  \\\n",
       "Deal_value                  0.003510             0.023845  0.005956 -0.002438   \n",
       "Weighted_amount             0.035083             0.037012  0.009411  0.003086   \n",
       "Pitch                       0.023643             0.008719  0.005131 -0.010524   \n",
       "Lead_revenue               -0.003950             0.015269 -0.004160  0.002419   \n",
       "Fund_category              -0.004508            -0.050673 -0.016917  0.029287   \n",
       "Geography                   0.012983             0.113625  0.012689 -0.028991   \n",
       "Designation                -0.000726            -0.004426  0.006757  0.009007   \n",
       "Lead_source                 0.015634             0.052177  0.011994 -0.009863   \n",
       "Level_of_meeting            0.018111             0.095374 -0.006586 -0.001552   \n",
       "Last_lead_update            0.008475            -0.000423  0.017929  0.007024   \n",
       "Resource                   -0.002357             0.007615  0.002521 -0.012224   \n",
       "Internal_rating             1.000000             0.073845 -0.002117  0.000839   \n",
       "Success_probability         0.073845             1.000000 -0.005276  0.002141   \n",
       "Year                       -0.002117            -0.005276  1.000000 -0.199270   \n",
       "Month                       0.000839             0.002141 -0.199270  1.000000   \n",
       "Weekday                    -0.009548             0.008577  0.019933  0.001549   \n",
       "\n",
       "                      Weekday  \n",
       "Deal_value           0.008752  \n",
       "Weighted_amount      0.006603  \n",
       "Pitch                0.016624  \n",
       "Lead_revenue        -0.012670  \n",
       "Fund_category        0.002357  \n",
       "Geography           -0.019927  \n",
       "Designation          0.000438  \n",
       "Lead_source          0.017917  \n",
       "Level_of_meeting     0.002035  \n",
       "Last_lead_update    -0.010166  \n",
       "Resource            -0.004079  \n",
       "Internal_rating     -0.009548  \n",
       "Success_probability  0.008577  \n",
       "Year                 0.019933  \n",
       "Month                0.001549  \n",
       "Weekday              1.000000  "
      ]
     },
     "execution_count": 44,
     "metadata": {},
     "output_type": "execute_result"
    }
   ],
   "source": [
    "data.corr()"
   ]
  },
  {
   "cell_type": "code",
   "execution_count": 45,
   "metadata": {},
   "outputs": [],
   "source": [
    "cols = list(data.columns.values) #Make a list of all of the columns in the df\n",
    "cols.pop(cols.index('Success_probability')) #Remove b from list\n",
    "data = data[cols+['Success_probability']]"
   ]
  },
  {
   "cell_type": "code",
   "execution_count": 46,
   "metadata": {},
   "outputs": [
    {
     "data": {
      "text/html": [
       "<div>\n",
       "<style scoped>\n",
       "    .dataframe tbody tr th:only-of-type {\n",
       "        vertical-align: middle;\n",
       "    }\n",
       "\n",
       "    .dataframe tbody tr th {\n",
       "        vertical-align: top;\n",
       "    }\n",
       "\n",
       "    .dataframe thead th {\n",
       "        text-align: right;\n",
       "    }\n",
       "</style>\n",
       "<table border=\"1\" class=\"dataframe\">\n",
       "  <thead>\n",
       "    <tr style=\"text-align: right;\">\n",
       "      <th></th>\n",
       "      <th>Deal_value</th>\n",
       "      <th>Weighted_amount</th>\n",
       "      <th>Pitch</th>\n",
       "      <th>Lead_revenue</th>\n",
       "      <th>Fund_category</th>\n",
       "      <th>Geography</th>\n",
       "      <th>Designation</th>\n",
       "      <th>Lead_source</th>\n",
       "      <th>Level_of_meeting</th>\n",
       "      <th>Last_lead_update</th>\n",
       "      <th>Resource</th>\n",
       "      <th>Internal_rating</th>\n",
       "      <th>Year</th>\n",
       "      <th>Month</th>\n",
       "      <th>Weekday</th>\n",
       "      <th>Success_probability</th>\n",
       "    </tr>\n",
       "  </thead>\n",
       "  <tbody>\n",
       "    <tr>\n",
       "      <th>0</th>\n",
       "      <td>279.922814</td>\n",
       "      <td>1437.798213</td>\n",
       "      <td>1</td>\n",
       "      <td>1</td>\n",
       "      <td>1</td>\n",
       "      <td>2</td>\n",
       "      <td>7</td>\n",
       "      <td>3</td>\n",
       "      <td>2</td>\n",
       "      <td>7</td>\n",
       "      <td>0</td>\n",
       "      <td>3</td>\n",
       "      <td>2020</td>\n",
       "      <td>3</td>\n",
       "      <td>6</td>\n",
       "      <td>73.6</td>\n",
       "    </tr>\n",
       "    <tr>\n",
       "      <th>1</th>\n",
       "      <td>110.375681</td>\n",
       "      <td>490.792013</td>\n",
       "      <td>1</td>\n",
       "      <td>2</td>\n",
       "      <td>3</td>\n",
       "      <td>1</td>\n",
       "      <td>4</td>\n",
       "      <td>2</td>\n",
       "      <td>0</td>\n",
       "      <td>2</td>\n",
       "      <td>0</td>\n",
       "      <td>5</td>\n",
       "      <td>2019</td>\n",
       "      <td>7</td>\n",
       "      <td>2</td>\n",
       "      <td>58.9</td>\n",
       "    </tr>\n",
       "    <tr>\n",
       "      <th>2</th>\n",
       "      <td>294.538122</td>\n",
       "      <td>1551.749464</td>\n",
       "      <td>0</td>\n",
       "      <td>2</td>\n",
       "      <td>3</td>\n",
       "      <td>2</td>\n",
       "      <td>8</td>\n",
       "      <td>1</td>\n",
       "      <td>0</td>\n",
       "      <td>3</td>\n",
       "      <td>0</td>\n",
       "      <td>4</td>\n",
       "      <td>2019</td>\n",
       "      <td>7</td>\n",
       "      <td>5</td>\n",
       "      <td>68.8</td>\n",
       "    </tr>\n",
       "    <tr>\n",
       "      <th>3</th>\n",
       "      <td>148.322247</td>\n",
       "      <td>684.340120</td>\n",
       "      <td>1</td>\n",
       "      <td>2</td>\n",
       "      <td>2</td>\n",
       "      <td>2</td>\n",
       "      <td>2</td>\n",
       "      <td>0</td>\n",
       "      <td>1</td>\n",
       "      <td>2</td>\n",
       "      <td>1</td>\n",
       "      <td>1</td>\n",
       "      <td>2021</td>\n",
       "      <td>1</td>\n",
       "      <td>5</td>\n",
       "      <td>64.5</td>\n",
       "    </tr>\n",
       "    <tr>\n",
       "      <th>4</th>\n",
       "      <td>336.168068</td>\n",
       "      <td>1252.949986</td>\n",
       "      <td>1</td>\n",
       "      <td>1</td>\n",
       "      <td>2</td>\n",
       "      <td>1</td>\n",
       "      <td>7</td>\n",
       "      <td>3</td>\n",
       "      <td>1</td>\n",
       "      <td>9</td>\n",
       "      <td>0</td>\n",
       "      <td>4</td>\n",
       "      <td>2019</td>\n",
       "      <td>5</td>\n",
       "      <td>2</td>\n",
       "      <td>62.4</td>\n",
       "    </tr>\n",
       "  </tbody>\n",
       "</table>\n",
       "</div>"
      ],
      "text/plain": [
       "   Deal_value  Weighted_amount  Pitch  Lead_revenue  Fund_category  Geography  \\\n",
       "0  279.922814      1437.798213      1             1              1          2   \n",
       "1  110.375681       490.792013      1             2              3          1   \n",
       "2  294.538122      1551.749464      0             2              3          2   \n",
       "3  148.322247       684.340120      1             2              2          2   \n",
       "4  336.168068      1252.949986      1             1              2          1   \n",
       "\n",
       "   Designation  Lead_source  Level_of_meeting  Last_lead_update  Resource  \\\n",
       "0            7            3                 2                 7         0   \n",
       "1            4            2                 0                 2         0   \n",
       "2            8            1                 0                 3         0   \n",
       "3            2            0                 1                 2         1   \n",
       "4            7            3                 1                 9         0   \n",
       "\n",
       "   Internal_rating  Year  Month  Weekday  Success_probability  \n",
       "0                3  2020      3        6                 73.6  \n",
       "1                5  2019      7        2                 58.9  \n",
       "2                4  2019      7        5                 68.8  \n",
       "3                1  2021      1        5                 64.5  \n",
       "4                4  2019      5        2                 62.4  "
      ]
     },
     "execution_count": 46,
     "metadata": {},
     "output_type": "execute_result"
    }
   ],
   "source": [
    "data.head()"
   ]
  },
  {
   "cell_type": "code",
   "execution_count": 47,
   "metadata": {},
   "outputs": [
    {
     "data": {
      "text/plain": [
       "(7007, 16)"
      ]
     },
     "execution_count": 47,
     "metadata": {},
     "output_type": "execute_result"
    }
   ],
   "source": [
    "data.shape"
   ]
  },
  {
   "cell_type": "code",
   "execution_count": 48,
   "metadata": {},
   "outputs": [],
   "source": [
    "#Feature Selection"
   ]
  },
  {
   "cell_type": "code",
   "execution_count": 49,
   "metadata": {},
   "outputs": [
    {
     "data": {
      "image/png": "[encoded data removed]",
      "text/plain": [
       "<Figure size 1584x1584 with 2 Axes>"
      ]
     },
     "metadata": {
      "needs_background": "light"
     },
     "output_type": "display_data"
    }
   ],
   "source": [
    "X = data.iloc[:,:-1]  #independent columns\n",
    "y = data.iloc[:,-1]    #target column i.e price range\n",
    "#get correlations of each features in dataset\n",
    "corrmat = data.corr()\n",
    "top_corr_features = corrmat.index\n",
    "plt.figure(figsize=(22,22))\n",
    "#plot heat map\n",
    "g=sns.heatmap(data[top_corr_features].corr(),annot=True,cmap=\"RdYlGn\")"
   ]
  },
  {
   "cell_type": "markdown",
   "metadata": {},
   "source": [
    "We can see that year and month are highly not correlated with eachother, so we can drop one of the columns."
   ]
  },
  {
   "cell_type": "code",
   "execution_count": 51,
   "metadata": {},
   "outputs": [],
   "source": [
    "columns1=['Month']\n",
    "data.drop(columns1,axis=1,inplace=True)"
   ]
  },
  {
   "cell_type": "code",
   "execution_count": 52,
   "metadata": {},
   "outputs": [
    {
     "data": {
      "text/html": [
       "<div>\n",
       "<style scoped>\n",
       "    .dataframe tbody tr th:only-of-type {\n",
       "        vertical-align: middle;\n",
       "    }\n",
       "\n",
       "    .dataframe tbody tr th {\n",
       "        vertical-align: top;\n",
       "    }\n",
       "\n",
       "    .dataframe thead th {\n",
       "        text-align: right;\n",
       "    }\n",
       "</style>\n",
       "<table border=\"1\" class=\"dataframe\">\n",
       "  <thead>\n",
       "    <tr style=\"text-align: right;\">\n",
       "      <th></th>\n",
       "      <th>Deal_value</th>\n",
       "      <th>Weighted_amount</th>\n",
       "      <th>Pitch</th>\n",
       "      <th>Lead_revenue</th>\n",
       "      <th>Fund_category</th>\n",
       "      <th>Geography</th>\n",
       "      <th>Designation</th>\n",
       "      <th>Lead_source</th>\n",
       "      <th>Level_of_meeting</th>\n",
       "      <th>Last_lead_update</th>\n",
       "      <th>Resource</th>\n",
       "      <th>Internal_rating</th>\n",
       "      <th>Year</th>\n",
       "      <th>Weekday</th>\n",
       "      <th>Success_probability</th>\n",
       "    </tr>\n",
       "  </thead>\n",
       "  <tbody>\n",
       "    <tr>\n",
       "      <th>0</th>\n",
       "      <td>279.922814</td>\n",
       "      <td>1437.798213</td>\n",
       "      <td>1</td>\n",
       "      <td>1</td>\n",
       "      <td>1</td>\n",
       "      <td>2</td>\n",
       "      <td>7</td>\n",
       "      <td>3</td>\n",
       "      <td>2</td>\n",
       "      <td>7</td>\n",
       "      <td>0</td>\n",
       "      <td>3</td>\n",
       "      <td>2020</td>\n",
       "      <td>6</td>\n",
       "      <td>73.6</td>\n",
       "    </tr>\n",
       "    <tr>\n",
       "      <th>1</th>\n",
       "      <td>110.375681</td>\n",
       "      <td>490.792013</td>\n",
       "      <td>1</td>\n",
       "      <td>2</td>\n",
       "      <td>3</td>\n",
       "      <td>1</td>\n",
       "      <td>4</td>\n",
       "      <td>2</td>\n",
       "      <td>0</td>\n",
       "      <td>2</td>\n",
       "      <td>0</td>\n",
       "      <td>5</td>\n",
       "      <td>2019</td>\n",
       "      <td>2</td>\n",
       "      <td>58.9</td>\n",
       "    </tr>\n",
       "    <tr>\n",
       "      <th>2</th>\n",
       "      <td>294.538122</td>\n",
       "      <td>1551.749464</td>\n",
       "      <td>0</td>\n",
       "      <td>2</td>\n",
       "      <td>3</td>\n",
       "      <td>2</td>\n",
       "      <td>8</td>\n",
       "      <td>1</td>\n",
       "      <td>0</td>\n",
       "      <td>3</td>\n",
       "      <td>0</td>\n",
       "      <td>4</td>\n",
       "      <td>2019</td>\n",
       "      <td>5</td>\n",
       "      <td>68.8</td>\n",
       "    </tr>\n",
       "    <tr>\n",
       "      <th>3</th>\n",
       "      <td>148.322247</td>\n",
       "      <td>684.340120</td>\n",
       "      <td>1</td>\n",
       "      <td>2</td>\n",
       "      <td>2</td>\n",
       "      <td>2</td>\n",
       "      <td>2</td>\n",
       "      <td>0</td>\n",
       "      <td>1</td>\n",
       "      <td>2</td>\n",
       "      <td>1</td>\n",
       "      <td>1</td>\n",
       "      <td>2021</td>\n",
       "      <td>5</td>\n",
       "      <td>64.5</td>\n",
       "    </tr>\n",
       "    <tr>\n",
       "      <th>4</th>\n",
       "      <td>336.168068</td>\n",
       "      <td>1252.949986</td>\n",
       "      <td>1</td>\n",
       "      <td>1</td>\n",
       "      <td>2</td>\n",
       "      <td>1</td>\n",
       "      <td>7</td>\n",
       "      <td>3</td>\n",
       "      <td>1</td>\n",
       "      <td>9</td>\n",
       "      <td>0</td>\n",
       "      <td>4</td>\n",
       "      <td>2019</td>\n",
       "      <td>2</td>\n",
       "      <td>62.4</td>\n",
       "    </tr>\n",
       "  </tbody>\n",
       "</table>\n",
       "</div>"
      ],
      "text/plain": [
       "   Deal_value  Weighted_amount  Pitch  Lead_revenue  Fund_category  Geography  \\\n",
       "0  279.922814      1437.798213      1             1              1          2   \n",
       "1  110.375681       490.792013      1             2              3          1   \n",
       "2  294.538122      1551.749464      0             2              3          2   \n",
       "3  148.322247       684.340120      1             2              2          2   \n",
       "4  336.168068      1252.949986      1             1              2          1   \n",
       "\n",
       "   Designation  Lead_source  Level_of_meeting  Last_lead_update  Resource  \\\n",
       "0            7            3                 2                 7         0   \n",
       "1            4            2                 0                 2         0   \n",
       "2            8            1                 0                 3         0   \n",
       "3            2            0                 1                 2         1   \n",
       "4            7            3                 1                 9         0   \n",
       "\n",
       "   Internal_rating  Year  Weekday  Success_probability  \n",
       "0                3  2020        6                 73.6  \n",
       "1                5  2019        2                 58.9  \n",
       "2                4  2019        5                 68.8  \n",
       "3                1  2021        5                 64.5  \n",
       "4                4  2019        2                 62.4  "
      ]
     },
     "execution_count": 52,
     "metadata": {},
     "output_type": "execute_result"
    }
   ],
   "source": [
    "data.head()"
   ]
  },
  {
   "cell_type": "code",
   "execution_count": 54,
   "metadata": {},
   "outputs": [],
   "source": [
    "data = data.sample(frac = 1)"
   ]
  },
  {
   "cell_type": "code",
   "execution_count": 55,
   "metadata": {},
   "outputs": [],
   "source": [
    "X = data.iloc[:, :-1].values\n",
    "y = data.iloc[:, -1].values"
   ]
  },
  {
   "cell_type": "code",
   "execution_count": 58,
   "metadata": {},
   "outputs": [],
   "source": [
    "#splitting for train-test\n",
    "from sklearn.model_selection import train_test_split\n",
    "X_train, X_test, y_train, y_test = train_test_split(X, y, test_size = 0.25, random_state = 0)"
   ]
  },
  {
   "cell_type": "code",
   "execution_count": 59,
   "metadata": {},
   "outputs": [],
   "source": [
    "#importing and defining the ML algorithm from scikit-learn\n",
    "from sklearn.tree import DecisionTreeRegressor\n",
    "from sklearn.ensemble import RandomForestRegressor\n",
    "from sklearn.linear_model import LinearRegression\n",
    "from sklearn.svm import SVR \n",
    "from sklearn.model_selection import train_test_split \n",
    "from sklearn.preprocessing import MinMaxScaler,StandardScaler,LabelEncoder\n",
    "from sklearn.metrics import r2_score"
   ]
  },
  {
   "cell_type": "code",
   "execution_count": 60,
   "metadata": {},
   "outputs": [],
   "source": [
    "models=[DecisionTreeRegressor(random_state=0),        \n",
    "        LinearRegression(),        \n",
    "        SVR(kernel='rbf'),                \n",
    "        RandomForestRegressor(n_estimators=200,random_state=0)      \n",
    "        ]"
   ]
  },
  {
   "cell_type": "code",
   "execution_count": 61,
   "metadata": {},
   "outputs": [],
   "source": [
    "model_names=['DecisionTreeRegressor','LinearRegression','SVR', 'RandomForestRegressor']"
   ]
  },
  {
   "cell_type": "code",
   "execution_count": 62,
   "metadata": {},
   "outputs": [],
   "source": [
    "#we will now loop over each model and then we will evaluate the accuracy\n",
    "acc=[] \n",
    "eval_acc={}\n",
    "for model in range(len(models)):    \n",
    "    regresssion_model=models[model]    \n",
    "    regresssion_model.fit(X_train,y_train)    \n",
    "    pred=regresssion_model.predict(X_test)    \n",
    "    acc.append(r2_score(y_test,pred)) \n",
    "eval_acc={'Modelling Algorithm':model_names,'Accuracy':acc}"
   ]
  },
  {
   "cell_type": "code",
   "execution_count": null,
   "metadata": {},
   "outputs": [],
   "source": []
  },
  {
   "cell_type": "markdown",
   "metadata": {},
   "source": [
    "# Importing test data."
   ]
  },
  {
   "cell_type": "code",
   "execution_count": 65,
   "metadata": {},
   "outputs": [],
   "source": [
    "missing_values = [\"n/a\", \"na\", \"--\",'?']\n",
    "test = pd.read_csv(\"test.csv\", na_values = missing_values)"
   ]
  },
  {
   "cell_type": "code",
   "execution_count": 66,
   "metadata": {},
   "outputs": [
    {
     "data": {
      "text/html": [
       "<div>\n",
       "<style scoped>\n",
       "    .dataframe tbody tr th:only-of-type {\n",
       "        vertical-align: middle;\n",
       "    }\n",
       "\n",
       "    .dataframe tbody tr th {\n",
       "        vertical-align: top;\n",
       "    }\n",
       "\n",
       "    .dataframe thead th {\n",
       "        text-align: right;\n",
       "    }\n",
       "</style>\n",
       "<table border=\"1\" class=\"dataframe\">\n",
       "  <thead>\n",
       "    <tr style=\"text-align: right;\">\n",
       "      <th></th>\n",
       "      <th>Deal_title</th>\n",
       "      <th>Lead_name</th>\n",
       "      <th>Industry</th>\n",
       "      <th>Deal_value</th>\n",
       "      <th>Weighted_amount</th>\n",
       "      <th>Date_of_creation</th>\n",
       "      <th>Pitch</th>\n",
       "      <th>Contact_no</th>\n",
       "      <th>Lead_revenue</th>\n",
       "      <th>Fund_category</th>\n",
       "      <th>...</th>\n",
       "      <th>POC_name</th>\n",
       "      <th>Designation</th>\n",
       "      <th>Lead_POC_email</th>\n",
       "      <th>Hiring_candidate_role</th>\n",
       "      <th>Lead_source</th>\n",
       "      <th>Level_of_meeting</th>\n",
       "      <th>Last_lead_update</th>\n",
       "      <th>Internal_POC</th>\n",
       "      <th>Resource</th>\n",
       "      <th>Internal_rating</th>\n",
       "    </tr>\n",
       "  </thead>\n",
       "  <tbody>\n",
       "    <tr>\n",
       "      <th>0</th>\n",
       "      <td>TitleAD16O</td>\n",
       "      <td>Bonilla Ltd Inc</td>\n",
       "      <td>Investment Bank/Brokerage</td>\n",
       "      <td>200988$</td>\n",
       "      <td>NaN</td>\n",
       "      <td>2020-04-15</td>\n",
       "      <td>Product_1</td>\n",
       "      <td>167.332.2751x989</td>\n",
       "      <td>100 - 500 Million</td>\n",
       "      <td>Category 4</td>\n",
       "      <td>...</td>\n",
       "      <td>sonia</td>\n",
       "      <td>Chairman/CEO/President</td>\n",
       "      <td>maureenthomas@bonilla.com</td>\n",
       "      <td>Designer, fashion/clothing</td>\n",
       "      <td>Marketing Event</td>\n",
       "      <td>Level 1</td>\n",
       "      <td>more than a month</td>\n",
       "      <td>Massiah,Gerard F</td>\n",
       "      <td>No</td>\n",
       "      <td>-1.0</td>\n",
       "    </tr>\n",
       "    <tr>\n",
       "      <th>1</th>\n",
       "      <td>TitleOW6CR</td>\n",
       "      <td>Williams, Rogers and Roach PLC</td>\n",
       "      <td>Electronics</td>\n",
       "      <td>409961$</td>\n",
       "      <td>2541758.2$</td>\n",
       "      <td>2021-01-23</td>\n",
       "      <td>Product_1</td>\n",
       "      <td>001-486-903-0711x7831</td>\n",
       "      <td>100 - 500 Million</td>\n",
       "      <td>Category 3</td>\n",
       "      <td>...</td>\n",
       "      <td>Daniel Bell</td>\n",
       "      <td>CEO/Co-Founder/Chairman</td>\n",
       "      <td>danielbell@williams.com</td>\n",
       "      <td>Horticultural consultant</td>\n",
       "      <td>Marketing Event</td>\n",
       "      <td>Level 2</td>\n",
       "      <td>Up-to-date</td>\n",
       "      <td>Smith,Keenan H</td>\n",
       "      <td>Yes</td>\n",
       "      <td>1.0</td>\n",
       "    </tr>\n",
       "    <tr>\n",
       "      <th>2</th>\n",
       "      <td>TitleVVJQ5</td>\n",
       "      <td>Wood, Vaughn and Morales Ltd</td>\n",
       "      <td>Banks</td>\n",
       "      <td>434433$</td>\n",
       "      <td>3041031.0$</td>\n",
       "      <td>2020-07-19</td>\n",
       "      <td>Product_1</td>\n",
       "      <td>(393)104-2610x9723</td>\n",
       "      <td>100 - 500 Million</td>\n",
       "      <td>Category 1</td>\n",
       "      <td>...</td>\n",
       "      <td>Andrew Davis</td>\n",
       "      <td>Chairman/Chief Innovation Officer</td>\n",
       "      <td>andrewdavis@wood.com</td>\n",
       "      <td>Information officer</td>\n",
       "      <td>Marketing Event</td>\n",
       "      <td>Level 2</td>\n",
       "      <td>Did not hear back after Level 1</td>\n",
       "      <td>Gilley,Janine</td>\n",
       "      <td>Deliverable</td>\n",
       "      <td>5.0</td>\n",
       "    </tr>\n",
       "    <tr>\n",
       "      <th>3</th>\n",
       "      <td>TitleUS8NA</td>\n",
       "      <td>Durham-Crawford Inc</td>\n",
       "      <td>Music</td>\n",
       "      <td>218952$</td>\n",
       "      <td>1521716.4$</td>\n",
       "      <td>2020-02-27</td>\n",
       "      <td>Product_2</td>\n",
       "      <td>(817)040-4599</td>\n",
       "      <td>100 - 500 Million</td>\n",
       "      <td>Category 1</td>\n",
       "      <td>...</td>\n",
       "      <td>shital</td>\n",
       "      <td>CEO/Chairman/President</td>\n",
       "      <td>charlesrivera@durhamcrawford.com</td>\n",
       "      <td>Commercial/residential surveyor</td>\n",
       "      <td>Contact Email</td>\n",
       "      <td>Level 3</td>\n",
       "      <td>more than a month</td>\n",
       "      <td>Morsy,Omar A</td>\n",
       "      <td>No</td>\n",
       "      <td>5.0</td>\n",
       "    </tr>\n",
       "    <tr>\n",
       "      <th>4</th>\n",
       "      <td>Title5VGWW</td>\n",
       "      <td>Simpson, Duncan and Long LLC</td>\n",
       "      <td>Real Estate</td>\n",
       "      <td>392835$</td>\n",
       "      <td>2455218.75$</td>\n",
       "      <td>2020-10-25</td>\n",
       "      <td>Product_1</td>\n",
       "      <td>718-032-5726x76098</td>\n",
       "      <td>500 Million - 1 Billion</td>\n",
       "      <td>Category 3</td>\n",
       "      <td>...</td>\n",
       "      <td>Shelly Stephenson</td>\n",
       "      <td>CEO/Co-Founder/Chairman</td>\n",
       "      <td>shellystephenson@simpson.com</td>\n",
       "      <td>Wellsite geologist</td>\n",
       "      <td>Others</td>\n",
       "      <td>Level 3</td>\n",
       "      <td>More than 2 weeks</td>\n",
       "      <td>Morsy,Omar A</td>\n",
       "      <td>Deliverable</td>\n",
       "      <td>2.0</td>\n",
       "    </tr>\n",
       "  </tbody>\n",
       "</table>\n",
       "<p>5 rows × 22 columns</p>\n",
       "</div>"
      ],
      "text/plain": [
       "   Deal_title                       Lead_name                   Industry  \\\n",
       "0  TitleAD16O                 Bonilla Ltd Inc  Investment Bank/Brokerage   \n",
       "1  TitleOW6CR  Williams, Rogers and Roach PLC                Electronics   \n",
       "2  TitleVVJQ5    Wood, Vaughn and Morales Ltd                      Banks   \n",
       "3  TitleUS8NA             Durham-Crawford Inc                      Music   \n",
       "4  Title5VGWW    Simpson, Duncan and Long LLC                Real Estate   \n",
       "\n",
       "  Deal_value Weighted_amount Date_of_creation      Pitch  \\\n",
       "0    200988$             NaN       2020-04-15  Product_1   \n",
       "1    409961$      2541758.2$       2021-01-23  Product_1   \n",
       "2    434433$      3041031.0$       2020-07-19  Product_1   \n",
       "3    218952$      1521716.4$       2020-02-27  Product_2   \n",
       "4    392835$     2455218.75$       2020-10-25  Product_1   \n",
       "\n",
       "              Contact_no             Lead_revenue Fund_category  ...  \\\n",
       "0       167.332.2751x989        100 - 500 Million    Category 4  ...   \n",
       "1  001-486-903-0711x7831        100 - 500 Million    Category 3  ...   \n",
       "2     (393)104-2610x9723        100 - 500 Million    Category 1  ...   \n",
       "3          (817)040-4599        100 - 500 Million    Category 1  ...   \n",
       "4     718-032-5726x76098  500 Million - 1 Billion    Category 3  ...   \n",
       "\n",
       "            POC_name                        Designation  \\\n",
       "0              sonia             Chairman/CEO/President   \n",
       "1        Daniel Bell            CEO/Co-Founder/Chairman   \n",
       "2       Andrew Davis  Chairman/Chief Innovation Officer   \n",
       "3             shital             CEO/Chairman/President   \n",
       "4  Shelly Stephenson            CEO/Co-Founder/Chairman   \n",
       "\n",
       "                     Lead_POC_email            Hiring_candidate_role  \\\n",
       "0         maureenthomas@bonilla.com       Designer, fashion/clothing   \n",
       "1           danielbell@williams.com         Horticultural consultant   \n",
       "2              andrewdavis@wood.com              Information officer   \n",
       "3  charlesrivera@durhamcrawford.com  Commercial/residential surveyor   \n",
       "4      shellystephenson@simpson.com               Wellsite geologist   \n",
       "\n",
       "       Lead_source Level_of_meeting                 Last_lead_update  \\\n",
       "0  Marketing Event          Level 1                more than a month   \n",
       "1  Marketing Event          Level 2                       Up-to-date   \n",
       "2  Marketing Event          Level 2  Did not hear back after Level 1   \n",
       "3    Contact Email          Level 3                more than a month   \n",
       "4           Others          Level 3                More than 2 weeks   \n",
       "\n",
       "       Internal_POC     Resource Internal_rating  \n",
       "0  Massiah,Gerard F           No            -1.0  \n",
       "1    Smith,Keenan H          Yes             1.0  \n",
       "2     Gilley,Janine  Deliverable             5.0  \n",
       "3      Morsy,Omar A           No             5.0  \n",
       "4      Morsy,Omar A  Deliverable             2.0  \n",
       "\n",
       "[5 rows x 22 columns]"
      ]
     },
     "execution_count": 66,
     "metadata": {},
     "output_type": "execute_result"
    }
   ],
   "source": [
    "test.head()"
   ]
  },
  {
   "cell_type": "markdown",
   "metadata": {},
   "source": [
    "Doing all the same process which we did for train data, like handling missing values, discritization."
   ]
  },
  {
   "cell_type": "code",
   "execution_count": 67,
   "metadata": {},
   "outputs": [
    {
     "data": {
      "text/html": [
       "<div>\n",
       "<style scoped>\n",
       "    .dataframe tbody tr th:only-of-type {\n",
       "        vertical-align: middle;\n",
       "    }\n",
       "\n",
       "    .dataframe tbody tr th {\n",
       "        vertical-align: top;\n",
       "    }\n",
       "\n",
       "    .dataframe thead th {\n",
       "        text-align: right;\n",
       "    }\n",
       "</style>\n",
       "<table border=\"1\" class=\"dataframe\">\n",
       "  <thead>\n",
       "    <tr style=\"text-align: right;\">\n",
       "      <th></th>\n",
       "      <th>variable</th>\n",
       "      <th>na_percentage</th>\n",
       "    </tr>\n",
       "  </thead>\n",
       "  <tbody>\n",
       "    <tr>\n",
       "      <th>6</th>\n",
       "      <td>Last_lead_update</td>\n",
       "      <td>0.171046</td>\n",
       "    </tr>\n",
       "    <tr>\n",
       "      <th>3</th>\n",
       "      <td>Geography</td>\n",
       "      <td>0.037745</td>\n",
       "    </tr>\n",
       "    <tr>\n",
       "      <th>2</th>\n",
       "      <td>Weighted_amount</td>\n",
       "      <td>0.028667</td>\n",
       "    </tr>\n",
       "    <tr>\n",
       "      <th>7</th>\n",
       "      <td>Resource</td>\n",
       "      <td>0.006689</td>\n",
       "    </tr>\n",
       "    <tr>\n",
       "      <th>1</th>\n",
       "      <td>Deal_value</td>\n",
       "      <td>0.002389</td>\n",
       "    </tr>\n",
       "    <tr>\n",
       "      <th>4</th>\n",
       "      <td>Location</td>\n",
       "      <td>0.001433</td>\n",
       "    </tr>\n",
       "    <tr>\n",
       "      <th>5</th>\n",
       "      <td>POC_name</td>\n",
       "      <td>0.000956</td>\n",
       "    </tr>\n",
       "    <tr>\n",
       "      <th>0</th>\n",
       "      <td>Industry</td>\n",
       "      <td>0.000478</td>\n",
       "    </tr>\n",
       "  </tbody>\n",
       "</table>\n",
       "</div>"
      ],
      "text/plain": [
       "           variable  na_percentage\n",
       "6  Last_lead_update       0.171046\n",
       "3         Geography       0.037745\n",
       "2   Weighted_amount       0.028667\n",
       "7          Resource       0.006689\n",
       "1        Deal_value       0.002389\n",
       "4          Location       0.001433\n",
       "5          POC_name       0.000956\n",
       "0          Industry       0.000478"
      ]
     },
     "execution_count": 67,
     "metadata": {},
     "output_type": "execute_result"
    }
   ],
   "source": [
    "vars_with_na = [var for var in test.columns if test[var].isnull().mean() > 0]\n",
    "\n",
    "# calculate the percentage of missing (as we did in section 3)\n",
    "# using the isnull() and mean() methods from pandas\n",
    "test_na = test[vars_with_na].isnull().mean()\n",
    "\n",
    "# transform the array into a dataframe\n",
    "test_na = pd.DataFrame(test_na.reset_index())\n",
    "\n",
    "# add column names to the dataframe\n",
    "test_na.columns = ['variable', 'na_percentage']\n",
    "\n",
    "# order the dataframe according to percentage of na per variable\n",
    "test_na.sort_values(by='na_percentage', ascending=False, inplace=True)\n",
    "\n",
    "# show\n",
    "test_na"
   ]
  },
  {
   "cell_type": "code",
   "execution_count": 68,
   "metadata": {},
   "outputs": [],
   "source": [
    "test['Deal_value'] = test['Deal_value'].apply(clean_currency).astype('float')\n",
    "test['Weighted_amount'] = test['Weighted_amount'].apply(clean_currency).astype('float')"
   ]
  },
  {
   "cell_type": "code",
   "execution_count": 69,
   "metadata": {},
   "outputs": [],
   "source": [
    "test['Deal_value'].fillna(test['Deal_value'].mean(), inplace=True)\n",
    "test['Weighted_amount'].fillna(test['Weighted_amount'].mean(), inplace=True)"
   ]
  },
  {
   "cell_type": "code",
   "execution_count": 70,
   "metadata": {},
   "outputs": [],
   "source": [
    "test['Geography'].fillna(test['Geography']=='Missing', inplace = True)"
   ]
  },
  {
   "cell_type": "code",
   "execution_count": 71,
   "metadata": {},
   "outputs": [],
   "source": [
    "test['Location'].fillna(test['Location'].mode()[0], inplace = True)"
   ]
  },
  {
   "cell_type": "code",
   "execution_count": 72,
   "metadata": {},
   "outputs": [],
   "source": [
    "test['Industry'].fillna(test['Industry'].mode()[0], inplace = True)"
   ]
  },
  {
   "cell_type": "code",
   "execution_count": 73,
   "metadata": {},
   "outputs": [],
   "source": [
    "test['Resource'].replace('We have all the requirements','Yes',inplace=True)\n",
    "test['Resource'].replace('Deliverable','Yes',inplace=True)\n",
    "test['Resource'].replace('Cannot deliver','No',inplace=True)\n",
    "test['Resource'].replace('Not enough','No',inplace=True)"
   ]
  },
  {
   "cell_type": "code",
   "execution_count": 74,
   "metadata": {},
   "outputs": [],
   "source": [
    "test['Resource'].fillna(test['Resource'].mode()[0], inplace = True)"
   ]
  },
  {
   "cell_type": "code",
   "execution_count": 75,
   "metadata": {},
   "outputs": [],
   "source": [
    "test['Last_lead_update'].fillna(test['Last_lead_update']=='Missing', inplace = True)"
   ]
  },
  {
   "cell_type": "code",
   "execution_count": 76,
   "metadata": {},
   "outputs": [],
   "source": [
    "columns=['Deal_title','Lead_name','Contact_no','Lead_POC_email','Internal_POC','Location','Hiring_candidate_role','POC_name','Industry','Fund_category','Industry']\n",
    "test.drop(columns, inplace=True,axis=1)"
   ]
  },
  {
   "cell_type": "code",
   "execution_count": 77,
   "metadata": {},
   "outputs": [
    {
     "data": {
      "text/plain": [
       "Index(['Deal_value', 'Weighted_amount', 'Date_of_creation', 'Pitch',\n",
       "       'Lead_revenue', 'Geography', 'Designation', 'Lead_source',\n",
       "       'Level_of_meeting', 'Last_lead_update', 'Resource', 'Internal_rating'],\n",
       "      dtype='object')"
      ]
     },
     "execution_count": 77,
     "metadata": {},
     "output_type": "execute_result"
    }
   ],
   "source": [
    "test.columns"
   ]
  },
  {
   "cell_type": "code",
   "execution_count": 78,
   "metadata": {},
   "outputs": [],
   "source": [
    "test['Date_of_creation']=pd.to_datetime(test['Date_of_creation'],format='%Y-%m-%d')\n",
    "test['Year']=test['Date_of_creation'].dt.year\n",
    "test['Month']=test['Date_of_creation'].dt.month\n",
    "test['Weekday']=test['Date_of_creation'].dt.weekday"
   ]
  },
  {
   "cell_type": "code",
   "execution_count": 79,
   "metadata": {},
   "outputs": [
    {
     "data": {
      "text/html": [
       "<div>\n",
       "<style scoped>\n",
       "    .dataframe tbody tr th:only-of-type {\n",
       "        vertical-align: middle;\n",
       "    }\n",
       "\n",
       "    .dataframe tbody tr th {\n",
       "        vertical-align: top;\n",
       "    }\n",
       "\n",
       "    .dataframe thead th {\n",
       "        text-align: right;\n",
       "    }\n",
       "</style>\n",
       "<table border=\"1\" class=\"dataframe\">\n",
       "  <thead>\n",
       "    <tr style=\"text-align: right;\">\n",
       "      <th></th>\n",
       "      <th>Deal_value</th>\n",
       "      <th>Weighted_amount</th>\n",
       "      <th>Date_of_creation</th>\n",
       "      <th>Pitch</th>\n",
       "      <th>Lead_revenue</th>\n",
       "      <th>Geography</th>\n",
       "      <th>Designation</th>\n",
       "      <th>Lead_source</th>\n",
       "      <th>Level_of_meeting</th>\n",
       "      <th>Last_lead_update</th>\n",
       "      <th>Resource</th>\n",
       "      <th>Internal_rating</th>\n",
       "      <th>Year</th>\n",
       "      <th>Month</th>\n",
       "      <th>Weekday</th>\n",
       "    </tr>\n",
       "  </thead>\n",
       "  <tbody>\n",
       "    <tr>\n",
       "      <th>0</th>\n",
       "      <td>200988.0</td>\n",
       "      <td>1.556917e+06</td>\n",
       "      <td>2020-04-15</td>\n",
       "      <td>Product_1</td>\n",
       "      <td>100 - 500 Million</td>\n",
       "      <td>India</td>\n",
       "      <td>Chairman/CEO/President</td>\n",
       "      <td>Marketing Event</td>\n",
       "      <td>Level 1</td>\n",
       "      <td>more than a month</td>\n",
       "      <td>No</td>\n",
       "      <td>-1.0</td>\n",
       "      <td>2020</td>\n",
       "      <td>4</td>\n",
       "      <td>2</td>\n",
       "    </tr>\n",
       "    <tr>\n",
       "      <th>1</th>\n",
       "      <td>409961.0</td>\n",
       "      <td>2.541758e+06</td>\n",
       "      <td>2021-01-23</td>\n",
       "      <td>Product_1</td>\n",
       "      <td>100 - 500 Million</td>\n",
       "      <td>USA</td>\n",
       "      <td>CEO/Co-Founder/Chairman</td>\n",
       "      <td>Marketing Event</td>\n",
       "      <td>Level 2</td>\n",
       "      <td>Up-to-date</td>\n",
       "      <td>Yes</td>\n",
       "      <td>1.0</td>\n",
       "      <td>2021</td>\n",
       "      <td>1</td>\n",
       "      <td>5</td>\n",
       "    </tr>\n",
       "    <tr>\n",
       "      <th>2</th>\n",
       "      <td>434433.0</td>\n",
       "      <td>3.041031e+06</td>\n",
       "      <td>2020-07-19</td>\n",
       "      <td>Product_1</td>\n",
       "      <td>100 - 500 Million</td>\n",
       "      <td>USA</td>\n",
       "      <td>Chairman/Chief Innovation Officer</td>\n",
       "      <td>Marketing Event</td>\n",
       "      <td>Level 2</td>\n",
       "      <td>Did not hear back after Level 1</td>\n",
       "      <td>Yes</td>\n",
       "      <td>5.0</td>\n",
       "      <td>2020</td>\n",
       "      <td>7</td>\n",
       "      <td>6</td>\n",
       "    </tr>\n",
       "    <tr>\n",
       "      <th>3</th>\n",
       "      <td>218952.0</td>\n",
       "      <td>1.521716e+06</td>\n",
       "      <td>2020-02-27</td>\n",
       "      <td>Product_2</td>\n",
       "      <td>100 - 500 Million</td>\n",
       "      <td>India</td>\n",
       "      <td>CEO/Chairman/President</td>\n",
       "      <td>Contact Email</td>\n",
       "      <td>Level 3</td>\n",
       "      <td>more than a month</td>\n",
       "      <td>No</td>\n",
       "      <td>5.0</td>\n",
       "      <td>2020</td>\n",
       "      <td>2</td>\n",
       "      <td>3</td>\n",
       "    </tr>\n",
       "    <tr>\n",
       "      <th>4</th>\n",
       "      <td>392835.0</td>\n",
       "      <td>2.455219e+06</td>\n",
       "      <td>2020-10-25</td>\n",
       "      <td>Product_1</td>\n",
       "      <td>500 Million - 1 Billion</td>\n",
       "      <td>USA</td>\n",
       "      <td>CEO/Co-Founder/Chairman</td>\n",
       "      <td>Others</td>\n",
       "      <td>Level 3</td>\n",
       "      <td>More than 2 weeks</td>\n",
       "      <td>Yes</td>\n",
       "      <td>2.0</td>\n",
       "      <td>2020</td>\n",
       "      <td>10</td>\n",
       "      <td>6</td>\n",
       "    </tr>\n",
       "  </tbody>\n",
       "</table>\n",
       "</div>"
      ],
      "text/plain": [
       "   Deal_value  Weighted_amount Date_of_creation      Pitch  \\\n",
       "0    200988.0     1.556917e+06       2020-04-15  Product_1   \n",
       "1    409961.0     2.541758e+06       2021-01-23  Product_1   \n",
       "2    434433.0     3.041031e+06       2020-07-19  Product_1   \n",
       "3    218952.0     1.521716e+06       2020-02-27  Product_2   \n",
       "4    392835.0     2.455219e+06       2020-10-25  Product_1   \n",
       "\n",
       "              Lead_revenue Geography                        Designation  \\\n",
       "0        100 - 500 Million     India             Chairman/CEO/President   \n",
       "1        100 - 500 Million       USA            CEO/Co-Founder/Chairman   \n",
       "2        100 - 500 Million       USA  Chairman/Chief Innovation Officer   \n",
       "3        100 - 500 Million     India             CEO/Chairman/President   \n",
       "4  500 Million - 1 Billion       USA            CEO/Co-Founder/Chairman   \n",
       "\n",
       "       Lead_source Level_of_meeting                 Last_lead_update Resource  \\\n",
       "0  Marketing Event          Level 1                more than a month       No   \n",
       "1  Marketing Event          Level 2                       Up-to-date      Yes   \n",
       "2  Marketing Event          Level 2  Did not hear back after Level 1      Yes   \n",
       "3    Contact Email          Level 3                more than a month       No   \n",
       "4           Others          Level 3                More than 2 weeks      Yes   \n",
       "\n",
       "   Internal_rating  Year  Month  Weekday  \n",
       "0             -1.0  2020      4        2  \n",
       "1              1.0  2021      1        5  \n",
       "2              5.0  2020      7        6  \n",
       "3              5.0  2020      2        3  \n",
       "4              2.0  2020     10        6  "
      ]
     },
     "execution_count": 79,
     "metadata": {},
     "output_type": "execute_result"
    }
   ],
   "source": [
    "test.head()"
   ]
  },
  {
   "cell_type": "code",
   "execution_count": 80,
   "metadata": {},
   "outputs": [
    {
     "data": {
      "text/plain": [
       "Index(['Pitch', 'Lead_revenue', 'Geography', 'Designation', 'Lead_source',\n",
       "       'Level_of_meeting', 'Last_lead_update', 'Resource'],\n",
       "      dtype='object')"
      ]
     },
     "execution_count": 80,
     "metadata": {},
     "output_type": "execute_result"
    }
   ],
   "source": [
    "objList = test.select_dtypes(include = \"object\").columns\n",
    "objList"
   ]
  },
  {
   "cell_type": "code",
   "execution_count": 81,
   "metadata": {},
   "outputs": [],
   "source": [
    "from sklearn.preprocessing import LabelEncoder\n",
    "le = LabelEncoder()\n",
    "\n",
    "for feat in objList:\n",
    "    test[feat] = le.fit_transform(test[feat].astype(str))"
   ]
  },
  {
   "cell_type": "code",
   "execution_count": 82,
   "metadata": {},
   "outputs": [],
   "source": [
    "columns=['Date_of_creation']\n",
    "test.drop(columns,axis=1,inplace=True)"
   ]
  },
  {
   "cell_type": "code",
   "execution_count": 83,
   "metadata": {},
   "outputs": [],
   "source": [
    "test['Deal_value']=test['Deal_value']**(1/1.5)\n",
    "test['Weighted_amount']=test['Weighted_amount']**(1/2)"
   ]
  },
  {
   "cell_type": "code",
   "execution_count": 84,
   "metadata": {},
   "outputs": [
    {
     "data": {
      "text/html": [
       "<div>\n",
       "<style scoped>\n",
       "    .dataframe tbody tr th:only-of-type {\n",
       "        vertical-align: middle;\n",
       "    }\n",
       "\n",
       "    .dataframe tbody tr th {\n",
       "        vertical-align: top;\n",
       "    }\n",
       "\n",
       "    .dataframe thead th {\n",
       "        text-align: right;\n",
       "    }\n",
       "</style>\n",
       "<table border=\"1\" class=\"dataframe\">\n",
       "  <thead>\n",
       "    <tr style=\"text-align: right;\">\n",
       "      <th></th>\n",
       "      <th>Deal_value</th>\n",
       "      <th>Weighted_amount</th>\n",
       "      <th>Pitch</th>\n",
       "      <th>Lead_revenue</th>\n",
       "      <th>Geography</th>\n",
       "      <th>Designation</th>\n",
       "      <th>Lead_source</th>\n",
       "      <th>Level_of_meeting</th>\n",
       "      <th>Last_lead_update</th>\n",
       "      <th>Resource</th>\n",
       "      <th>Internal_rating</th>\n",
       "      <th>Year</th>\n",
       "      <th>Month</th>\n",
       "      <th>Weekday</th>\n",
       "    </tr>\n",
       "  </thead>\n",
       "  <tbody>\n",
       "    <tr>\n",
       "      <th>0</th>\n",
       "      <td>3431.205682</td>\n",
       "      <td>1247.764671</td>\n",
       "      <td>0</td>\n",
       "      <td>0</td>\n",
       "      <td>1</td>\n",
       "      <td>4</td>\n",
       "      <td>1</td>\n",
       "      <td>0</td>\n",
       "      <td>10</td>\n",
       "      <td>0</td>\n",
       "      <td>-1.0</td>\n",
       "      <td>2020</td>\n",
       "      <td>4</td>\n",
       "      <td>2</td>\n",
       "    </tr>\n",
       "    <tr>\n",
       "      <th>1</th>\n",
       "      <td>5518.592959</td>\n",
       "      <td>1594.289246</td>\n",
       "      <td>0</td>\n",
       "      <td>0</td>\n",
       "      <td>2</td>\n",
       "      <td>2</td>\n",
       "      <td>1</td>\n",
       "      <td>1</td>\n",
       "      <td>9</td>\n",
       "      <td>1</td>\n",
       "      <td>1.0</td>\n",
       "      <td>2021</td>\n",
       "      <td>1</td>\n",
       "      <td>5</td>\n",
       "    </tr>\n",
       "    <tr>\n",
       "      <th>2</th>\n",
       "      <td>5736.080068</td>\n",
       "      <td>1743.855212</td>\n",
       "      <td>0</td>\n",
       "      <td>0</td>\n",
       "      <td>2</td>\n",
       "      <td>5</td>\n",
       "      <td>1</td>\n",
       "      <td>1</td>\n",
       "      <td>2</td>\n",
       "      <td>1</td>\n",
       "      <td>5.0</td>\n",
       "      <td>2020</td>\n",
       "      <td>7</td>\n",
       "      <td>6</td>\n",
       "    </tr>\n",
       "    <tr>\n",
       "      <th>3</th>\n",
       "      <td>3632.725739</td>\n",
       "      <td>1233.578696</td>\n",
       "      <td>1</td>\n",
       "      <td>0</td>\n",
       "      <td>1</td>\n",
       "      <td>1</td>\n",
       "      <td>0</td>\n",
       "      <td>2</td>\n",
       "      <td>10</td>\n",
       "      <td>0</td>\n",
       "      <td>5.0</td>\n",
       "      <td>2020</td>\n",
       "      <td>2</td>\n",
       "      <td>3</td>\n",
       "    </tr>\n",
       "    <tr>\n",
       "      <th>4</th>\n",
       "      <td>5363.810793</td>\n",
       "      <td>1566.913766</td>\n",
       "      <td>0</td>\n",
       "      <td>2</td>\n",
       "      <td>2</td>\n",
       "      <td>2</td>\n",
       "      <td>2</td>\n",
       "      <td>2</td>\n",
       "      <td>5</td>\n",
       "      <td>1</td>\n",
       "      <td>2.0</td>\n",
       "      <td>2020</td>\n",
       "      <td>10</td>\n",
       "      <td>6</td>\n",
       "    </tr>\n",
       "  </tbody>\n",
       "</table>\n",
       "</div>"
      ],
      "text/plain": [
       "    Deal_value  Weighted_amount  Pitch  Lead_revenue  Geography  Designation  \\\n",
       "0  3431.205682      1247.764671      0             0          1            4   \n",
       "1  5518.592959      1594.289246      0             0          2            2   \n",
       "2  5736.080068      1743.855212      0             0          2            5   \n",
       "3  3632.725739      1233.578696      1             0          1            1   \n",
       "4  5363.810793      1566.913766      0             2          2            2   \n",
       "\n",
       "   Lead_source  Level_of_meeting  Last_lead_update  Resource  Internal_rating  \\\n",
       "0            1                 0                10         0             -1.0   \n",
       "1            1                 1                 9         1              1.0   \n",
       "2            1                 1                 2         1              5.0   \n",
       "3            0                 2                10         0              5.0   \n",
       "4            2                 2                 5         1              2.0   \n",
       "\n",
       "   Year  Month  Weekday  \n",
       "0  2020      4        2  \n",
       "1  2021      1        5  \n",
       "2  2020      7        6  \n",
       "3  2020      2        3  \n",
       "4  2020     10        6  "
      ]
     },
     "execution_count": 84,
     "metadata": {},
     "output_type": "execute_result"
    }
   ],
   "source": [
    "test.head()"
   ]
  },
  {
   "cell_type": "code",
   "execution_count": 85,
   "metadata": {},
   "outputs": [],
   "source": [
    "columns=['Month']\n",
    "test.drop(columns,axis=1,inplace=True)"
   ]
  },
  {
   "cell_type": "code",
   "execution_count": 95,
   "metadata": {},
   "outputs": [],
   "source": [
    "data.drop('Fund_category',axis=1,inplace=True)"
   ]
  },
  {
   "cell_type": "code",
   "execution_count": 96,
   "metadata": {},
   "outputs": [
    {
     "data": {
      "text/plain": [
       "Index(['Deal_value', 'Weighted_amount', 'Pitch', 'Lead_revenue', 'Geography',\n",
       "       'Designation', 'Lead_source', 'Level_of_meeting', 'Last_lead_update',\n",
       "       'Resource', 'Internal_rating', 'Year', 'Weekday',\n",
       "       'Success_probability'],\n",
       "      dtype='object')"
      ]
     },
     "execution_count": 96,
     "metadata": {},
     "output_type": "execute_result"
    }
   ],
   "source": [
    "data.columns"
   ]
  },
  {
   "cell_type": "code",
   "execution_count": 97,
   "metadata": {},
   "outputs": [
    {
     "data": {
      "text/plain": [
       "Index(['Deal_value', 'Weighted_amount', 'Pitch', 'Lead_revenue', 'Geography',\n",
       "       'Designation', 'Lead_source', 'Level_of_meeting', 'Last_lead_update',\n",
       "       'Resource', 'Internal_rating', 'Year', 'Weekday'],\n",
       "      dtype='object')"
      ]
     },
     "execution_count": 97,
     "metadata": {},
     "output_type": "execute_result"
    }
   ],
   "source": [
    "test.columns"
   ]
  },
  {
   "cell_type": "code",
   "execution_count": 98,
   "metadata": {},
   "outputs": [],
   "source": [
    "train_data=data.iloc[:,:-1]\n",
    "target=data.iloc[:,-1]\n",
    "test_data=test.iloc[:]"
   ]
  },
  {
   "cell_type": "markdown",
   "metadata": {},
   "source": [
    "#Decision tree."
   ]
  },
  {
   "cell_type": "code",
   "execution_count": 99,
   "metadata": {},
   "outputs": [
    {
     "data": {
      "text/plain": [
       "DecisionTreeRegressor(ccp_alpha=0.0, criterion='mse', max_depth=None,\n",
       "                      max_features=None, max_leaf_nodes=None,\n",
       "                      min_impurity_decrease=0.0, min_impurity_split=None,\n",
       "                      min_samples_leaf=1, min_samples_split=2,\n",
       "                      min_weight_fraction_leaf=0.0, presort='deprecated',\n",
       "                      random_state=0, splitter='best')"
      ]
     },
     "execution_count": 99,
     "metadata": {},
     "output_type": "execute_result"
    }
   ],
   "source": [
    "model1=DecisionTreeRegressor(random_state=0)\n",
    "model1.fit(train_data,target)"
   ]
  },
  {
   "cell_type": "code",
   "execution_count": 100,
   "metadata": {},
   "outputs": [],
   "source": [
    "test_prediction1=model1.predict(test_data)"
   ]
  },
  {
   "cell_type": "code",
   "execution_count": 101,
   "metadata": {},
   "outputs": [],
   "source": [
    "test1=pd.read_csv('test.csv')"
   ]
  },
  {
   "cell_type": "code",
   "execution_count": 102,
   "metadata": {},
   "outputs": [
    {
     "data": {
      "text/html": [
       "<div>\n",
       "<style scoped>\n",
       "    .dataframe tbody tr th:only-of-type {\n",
       "        vertical-align: middle;\n",
       "    }\n",
       "\n",
       "    .dataframe tbody tr th {\n",
       "        vertical-align: top;\n",
       "    }\n",
       "\n",
       "    .dataframe thead th {\n",
       "        text-align: right;\n",
       "    }\n",
       "</style>\n",
       "<table border=\"1\" class=\"dataframe\">\n",
       "  <thead>\n",
       "    <tr style=\"text-align: right;\">\n",
       "      <th></th>\n",
       "      <th>Deal_title</th>\n",
       "      <th>Lead_name</th>\n",
       "      <th>Industry</th>\n",
       "      <th>Deal_value</th>\n",
       "      <th>Weighted_amount</th>\n",
       "      <th>Date_of_creation</th>\n",
       "      <th>Pitch</th>\n",
       "      <th>Contact_no</th>\n",
       "      <th>Lead_revenue</th>\n",
       "      <th>Fund_category</th>\n",
       "      <th>...</th>\n",
       "      <th>POC_name</th>\n",
       "      <th>Designation</th>\n",
       "      <th>Lead_POC_email</th>\n",
       "      <th>Hiring_candidate_role</th>\n",
       "      <th>Lead_source</th>\n",
       "      <th>Level_of_meeting</th>\n",
       "      <th>Last_lead_update</th>\n",
       "      <th>Internal_POC</th>\n",
       "      <th>Resource</th>\n",
       "      <th>Internal_rating</th>\n",
       "    </tr>\n",
       "  </thead>\n",
       "  <tbody>\n",
       "    <tr>\n",
       "      <th>0</th>\n",
       "      <td>TitleAD16O</td>\n",
       "      <td>Bonilla Ltd Inc</td>\n",
       "      <td>Investment Bank/Brokerage</td>\n",
       "      <td>200988$</td>\n",
       "      <td>NaN</td>\n",
       "      <td>2020-04-15</td>\n",
       "      <td>Product_1</td>\n",
       "      <td>167.332.2751x989</td>\n",
       "      <td>100 - 500 Million</td>\n",
       "      <td>Category 4</td>\n",
       "      <td>...</td>\n",
       "      <td>sonia</td>\n",
       "      <td>Chairman/CEO/President</td>\n",
       "      <td>maureenthomas@bonilla.com</td>\n",
       "      <td>Designer, fashion/clothing</td>\n",
       "      <td>Marketing Event</td>\n",
       "      <td>Level 1</td>\n",
       "      <td>more than a month</td>\n",
       "      <td>Massiah,Gerard F</td>\n",
       "      <td>No</td>\n",
       "      <td>-1.0</td>\n",
       "    </tr>\n",
       "    <tr>\n",
       "      <th>1</th>\n",
       "      <td>TitleOW6CR</td>\n",
       "      <td>Williams, Rogers and Roach PLC</td>\n",
       "      <td>Electronics</td>\n",
       "      <td>409961$</td>\n",
       "      <td>2541758.2$</td>\n",
       "      <td>2021-01-23</td>\n",
       "      <td>Product_1</td>\n",
       "      <td>001-486-903-0711x7831</td>\n",
       "      <td>100 - 500 Million</td>\n",
       "      <td>Category 3</td>\n",
       "      <td>...</td>\n",
       "      <td>Daniel Bell</td>\n",
       "      <td>CEO/Co-Founder/Chairman</td>\n",
       "      <td>danielbell@williams.com</td>\n",
       "      <td>Horticultural consultant</td>\n",
       "      <td>Marketing Event</td>\n",
       "      <td>Level 2</td>\n",
       "      <td>Up-to-date</td>\n",
       "      <td>Smith,Keenan H</td>\n",
       "      <td>Yes</td>\n",
       "      <td>1.0</td>\n",
       "    </tr>\n",
       "    <tr>\n",
       "      <th>2</th>\n",
       "      <td>TitleVVJQ5</td>\n",
       "      <td>Wood, Vaughn and Morales Ltd</td>\n",
       "      <td>Banks</td>\n",
       "      <td>434433$</td>\n",
       "      <td>3041031.0$</td>\n",
       "      <td>2020-07-19</td>\n",
       "      <td>Product_1</td>\n",
       "      <td>(393)104-2610x9723</td>\n",
       "      <td>100 - 500 Million</td>\n",
       "      <td>Category 1</td>\n",
       "      <td>...</td>\n",
       "      <td>Andrew Davis</td>\n",
       "      <td>Chairman/Chief Innovation Officer</td>\n",
       "      <td>andrewdavis@wood.com</td>\n",
       "      <td>Information officer</td>\n",
       "      <td>Marketing Event</td>\n",
       "      <td>Level 2</td>\n",
       "      <td>Did not hear back after Level 1</td>\n",
       "      <td>Gilley,Janine</td>\n",
       "      <td>Deliverable</td>\n",
       "      <td>5.0</td>\n",
       "    </tr>\n",
       "    <tr>\n",
       "      <th>3</th>\n",
       "      <td>TitleUS8NA</td>\n",
       "      <td>Durham-Crawford Inc</td>\n",
       "      <td>Music</td>\n",
       "      <td>218952$</td>\n",
       "      <td>1521716.4$</td>\n",
       "      <td>2020-02-27</td>\n",
       "      <td>Product_2</td>\n",
       "      <td>(817)040-4599</td>\n",
       "      <td>100 - 500 Million</td>\n",
       "      <td>Category 1</td>\n",
       "      <td>...</td>\n",
       "      <td>shital</td>\n",
       "      <td>CEO/Chairman/President</td>\n",
       "      <td>charlesrivera@durhamcrawford.com</td>\n",
       "      <td>Commercial/residential surveyor</td>\n",
       "      <td>Contact Email</td>\n",
       "      <td>Level 3</td>\n",
       "      <td>more than a month</td>\n",
       "      <td>Morsy,Omar A</td>\n",
       "      <td>No</td>\n",
       "      <td>5.0</td>\n",
       "    </tr>\n",
       "    <tr>\n",
       "      <th>4</th>\n",
       "      <td>Title5VGWW</td>\n",
       "      <td>Simpson, Duncan and Long LLC</td>\n",
       "      <td>Real Estate</td>\n",
       "      <td>392835$</td>\n",
       "      <td>2455218.75$</td>\n",
       "      <td>2020-10-25</td>\n",
       "      <td>Product_1</td>\n",
       "      <td>718-032-5726x76098</td>\n",
       "      <td>500 Million - 1 Billion</td>\n",
       "      <td>Category 3</td>\n",
       "      <td>...</td>\n",
       "      <td>Shelly Stephenson</td>\n",
       "      <td>CEO/Co-Founder/Chairman</td>\n",
       "      <td>shellystephenson@simpson.com</td>\n",
       "      <td>Wellsite geologist</td>\n",
       "      <td>Others</td>\n",
       "      <td>Level 3</td>\n",
       "      <td>More than 2 weeks</td>\n",
       "      <td>Morsy,Omar A</td>\n",
       "      <td>Deliverable</td>\n",
       "      <td>2.0</td>\n",
       "    </tr>\n",
       "  </tbody>\n",
       "</table>\n",
       "<p>5 rows × 22 columns</p>\n",
       "</div>"
      ],
      "text/plain": [
       "   Deal_title                       Lead_name                   Industry  \\\n",
       "0  TitleAD16O                 Bonilla Ltd Inc  Investment Bank/Brokerage   \n",
       "1  TitleOW6CR  Williams, Rogers and Roach PLC                Electronics   \n",
       "2  TitleVVJQ5    Wood, Vaughn and Morales Ltd                      Banks   \n",
       "3  TitleUS8NA             Durham-Crawford Inc                      Music   \n",
       "4  Title5VGWW    Simpson, Duncan and Long LLC                Real Estate   \n",
       "\n",
       "  Deal_value Weighted_amount Date_of_creation      Pitch  \\\n",
       "0    200988$             NaN       2020-04-15  Product_1   \n",
       "1    409961$      2541758.2$       2021-01-23  Product_1   \n",
       "2    434433$      3041031.0$       2020-07-19  Product_1   \n",
       "3    218952$      1521716.4$       2020-02-27  Product_2   \n",
       "4    392835$     2455218.75$       2020-10-25  Product_1   \n",
       "\n",
       "              Contact_no             Lead_revenue Fund_category  ...  \\\n",
       "0       167.332.2751x989        100 - 500 Million    Category 4  ...   \n",
       "1  001-486-903-0711x7831        100 - 500 Million    Category 3  ...   \n",
       "2     (393)104-2610x9723        100 - 500 Million    Category 1  ...   \n",
       "3          (817)040-4599        100 - 500 Million    Category 1  ...   \n",
       "4     718-032-5726x76098  500 Million - 1 Billion    Category 3  ...   \n",
       "\n",
       "            POC_name                        Designation  \\\n",
       "0              sonia             Chairman/CEO/President   \n",
       "1        Daniel Bell            CEO/Co-Founder/Chairman   \n",
       "2       Andrew Davis  Chairman/Chief Innovation Officer   \n",
       "3             shital             CEO/Chairman/President   \n",
       "4  Shelly Stephenson            CEO/Co-Founder/Chairman   \n",
       "\n",
       "                     Lead_POC_email            Hiring_candidate_role  \\\n",
       "0         maureenthomas@bonilla.com       Designer, fashion/clothing   \n",
       "1           danielbell@williams.com         Horticultural consultant   \n",
       "2              andrewdavis@wood.com              Information officer   \n",
       "3  charlesrivera@durhamcrawford.com  Commercial/residential surveyor   \n",
       "4      shellystephenson@simpson.com               Wellsite geologist   \n",
       "\n",
       "       Lead_source Level_of_meeting                 Last_lead_update  \\\n",
       "0  Marketing Event          Level 1                more than a month   \n",
       "1  Marketing Event          Level 2                       Up-to-date   \n",
       "2  Marketing Event          Level 2  Did not hear back after Level 1   \n",
       "3    Contact Email          Level 3                more than a month   \n",
       "4           Others          Level 3                More than 2 weeks   \n",
       "\n",
       "       Internal_POC     Resource Internal_rating  \n",
       "0  Massiah,Gerard F           No            -1.0  \n",
       "1    Smith,Keenan H          Yes             1.0  \n",
       "2     Gilley,Janine  Deliverable             5.0  \n",
       "3      Morsy,Omar A           No             5.0  \n",
       "4      Morsy,Omar A  Deliverable             2.0  \n",
       "\n",
       "[5 rows x 22 columns]"
      ]
     },
     "execution_count": 102,
     "metadata": {},
     "output_type": "execute_result"
    }
   ],
   "source": [
    "test1.head()"
   ]
  },
  {
   "cell_type": "code",
   "execution_count": 103,
   "metadata": {},
   "outputs": [],
   "source": [
    "Deal_title = test1['Deal_title']\n",
    "submission_df_3 = pd.DataFrame({\n",
    "                  \"Deal_title\": Deal_title, \n",
    "                  \"Success_probability\": test_prediction1})"
   ]
  },
  {
   "cell_type": "code",
   "execution_count": 104,
   "metadata": {},
   "outputs": [
    {
     "data": {
      "text/plain": [
       "(2093, 2)"
      ]
     },
     "execution_count": 104,
     "metadata": {},
     "output_type": "execute_result"
    }
   ],
   "source": [
    "submission_df_3.shape"
   ]
  },
  {
   "cell_type": "code",
   "execution_count": 105,
   "metadata": {},
   "outputs": [],
   "source": [
    "submission_df_3.to_csv('submission_3.csv', index=False)\n"
   ]
  },
  {
   "cell_type": "raw",
   "metadata": {},
   "source": [
    "# Random forest"
   ]
  },
  {
   "cell_type": "code",
   "execution_count": 107,
   "metadata": {},
   "outputs": [
    {
     "data": {
      "text/plain": [
       "RandomForestRegressor(bootstrap=True, ccp_alpha=0.0, criterion='mse',\n",
       "                      max_depth=None, max_features='auto', max_leaf_nodes=None,\n",
       "                      max_samples=None, min_impurity_decrease=0.0,\n",
       "                      min_impurity_split=None, min_samples_leaf=1,\n",
       "                      min_samples_split=2, min_weight_fraction_leaf=0.0,\n",
       "                      n_estimators=200, n_jobs=None, oob_score=False,\n",
       "                      random_state=0, verbose=0, warm_start=False)"
      ]
     },
     "execution_count": 107,
     "metadata": {},
     "output_type": "execute_result"
    }
   ],
   "source": [
    "model1=RandomForestRegressor(n_estimators=200,random_state=0)\n",
    "model1.fit(train_data,target)"
   ]
  },
  {
   "cell_type": "code",
   "execution_count": 108,
   "metadata": {},
   "outputs": [],
   "source": [
    "test_prediction10=model1.predict(test_data)"
   ]
  },
  {
   "cell_type": "code",
   "execution_count": 109,
   "metadata": {},
   "outputs": [],
   "source": [
    "Deal_title = test1['Deal_title']\n",
    "submission_df10 = pd.DataFrame({\n",
    "                  \"Deal_title\": Deal_title, \n",
    "                  \"Success_probability\": test_prediction10})"
   ]
  },
  {
   "cell_type": "code",
   "execution_count": 110,
   "metadata": {},
   "outputs": [],
   "source": [
    "submission_df10.to_csv('submission_df10.csv', index=False)\n"
   ]
  },
  {
   "cell_type": "markdown",
   "metadata": {},
   "source": [
    "#linear Regression"
   ]
  },
  {
   "cell_type": "code",
   "execution_count": 112,
   "metadata": {},
   "outputs": [
    {
     "data": {
      "text/plain": [
       "LinearRegression(copy_X=True, fit_intercept=True, n_jobs=None, normalize=False)"
      ]
     },
     "execution_count": 112,
     "metadata": {},
     "output_type": "execute_result"
    }
   ],
   "source": [
    "model2=LinearRegression()\n",
    "model2.fit(train_data,target)"
   ]
  },
  {
   "cell_type": "code",
   "execution_count": 113,
   "metadata": {},
   "outputs": [],
   "source": [
    "test_prediction9=model2.predict(test_data)"
   ]
  },
  {
   "cell_type": "code",
   "execution_count": 114,
   "metadata": {},
   "outputs": [],
   "source": [
    "Deal_title = test1['Deal_title']\n",
    "submission_df9 = pd.DataFrame({\n",
    "                  \"Deal_title\": Deal_title, \n",
    "                  \"Success_probability\": test_prediction9})"
   ]
  },
  {
   "cell_type": "code",
   "execution_count": 115,
   "metadata": {},
   "outputs": [],
   "source": [
    "submission_df9.to_csv('submission_df9.csv', index=False)\n"
   ]
  },
  {
   "cell_type": "markdown",
   "metadata": {},
   "source": [
    "#Xgboost"
   ]
  },
  {
   "cell_type": "code",
   "execution_count": 117,
   "metadata": {},
   "outputs": [],
   "source": [
    "import xgboost as xg"
   ]
  },
  {
   "cell_type": "code",
   "execution_count": 118,
   "metadata": {},
   "outputs": [
    {
     "name": "stdout",
     "output_type": "stream",
     "text": [
      "[15:31:42] WARNING: C:/Users/Administrator/workspace/xgboost-win64_release_1.4.0/src/objective/regression_obj.cu:171: reg:linear is now deprecated in favor of reg:squarederror.\n"
     ]
    },
    {
     "name": "stderr",
     "output_type": "stream",
     "text": [
      "C:\\Users\\lenovo\\anaconda3\\lib\\site-packages\\xgboost\\data.py:114: UserWarning: Use subset (sliced data) of np.ndarray is not recommended because it will generate extra copies and increase memory consumption\n",
      "  \"because it will generate extra copies and increase \" +\n"
     ]
    }
   ],
   "source": [
    "model3 = xg.XGBRegressor(objective ='reg:linear',\n",
    "                  n_estimators = 1000, seed = 123)\n",
    "  \n",
    "# Fitting the model\n",
    "model3.fit(train_data,target)\n",
    "  \n",
    "# Predict the model\n",
    "test_prediction5=model3.predict(test_data)"
   ]
  },
  {
   "cell_type": "code",
   "execution_count": 119,
   "metadata": {},
   "outputs": [],
   "source": [
    "Deal_title = test1['Deal_title']\n",
    "submission_df5 = pd.DataFrame({\n",
    "                  \"Deal_title\": Deal_title, \n",
    "                  \"Success_probability\": test_prediction5})"
   ]
  },
  {
   "cell_type": "code",
   "execution_count": 120,
   "metadata": {},
   "outputs": [],
   "source": [
    "submission_df5.to_csv('submission_df5.csv', index=False)\n"
   ]
  },
  {
   "cell_type": "code",
   "execution_count": null,
   "metadata": {},
   "outputs": [],
   "source": [
    "   "
   ]
  },
  {
   "cell_type": "code",
   "execution_count": null,
   "metadata": {},
   "outputs": [],
   "source": []
  }
 ],
 "metadata": {
  "kernelspec": {
   "display_name": "Python 3",
   "language": "python",
   "name": "python3"
  },
  "language_info": {
   "codemirror_mode": {
    "name": "ipython",
    "version": 3
   },
   "file_extension": ".py",
   "mimetype": "text/x-python",
   "name": "python",
   "nbconvert_exporter": "python",
   "pygments_lexer": "ipython3",
   "version": "3.7.6"
  }
 },
 "nbformat": 4,
 "nbformat_minor": 4
}
